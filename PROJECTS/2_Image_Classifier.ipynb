{
  "nbformat": 4,
  "nbformat_minor": 0,
  "metadata": {
    "colab": {
      "provenance": []
    },
    "kernelspec": {
      "name": "python3",
      "display_name": "Python 3"
    },
    "language_info": {
      "name": "python"
    }
  },
  "cells": [
    {
      "cell_type": "code",
      "execution_count": 78,
      "metadata": {
        "id": "NwXhaW6rYSnu"
      },
      "outputs": [],
      "source": [
        "import numpy as np\n",
        "import tensorflow as tp\n",
        "import matplotlib.pyplot as plt"
      ]
    },
    {
      "cell_type": "code",
      "source": [],
      "metadata": {
        "id": "qWOzCh7IYeQR"
      },
      "execution_count": 78,
      "outputs": []
    },
    {
      "cell_type": "code",
      "source": [
        "from tensorflow.keras import layers, models, datasets"
      ],
      "metadata": {
        "id": "A1925hc-Yf3J"
      },
      "execution_count": 79,
      "outputs": []
    },
    {
      "cell_type": "code",
      "source": [
        "from tensorflow.keras.utils import to_categorical"
      ],
      "metadata": {
        "id": "AVAUqg1MYovZ"
      },
      "execution_count": 80,
      "outputs": []
    },
    {
      "cell_type": "markdown",
      "source": [
        "### **Load the mnist dataset : **"
      ],
      "metadata": {
        "id": "Uh88V_27Z0Mr"
      }
    },
    {
      "cell_type": "code",
      "source": [
        "(train_images, train_labels), (test_images, test_labels) = datasets.mnist.load_data()"
      ],
      "metadata": {
        "id": "Qk-F7r2nZVx5"
      },
      "execution_count": 81,
      "outputs": []
    },
    {
      "cell_type": "markdown",
      "source": [
        "### preprocessing: Normalizing the pixel value to between 0 and 1"
      ],
      "metadata": {
        "id": "B_7DRS9OZ-1W"
      }
    },
    {
      "cell_type": "code",
      "source": [
        "train_images = train_images/255.0\n",
        "test_images = test_images/255.0"
      ],
      "metadata": {
        "id": "ggQcCOE2Zbvb"
      },
      "execution_count": 82,
      "outputs": []
    },
    {
      "cell_type": "markdown",
      "source": [
        "### reshape the image to 28,28,1 as they are greyscale :\n",
        "### CNN expect each image in 3d shape (height, width and channel)\n",
        "### **mnist image are greyscale each has only one channel that's why 28,28,1 which represent height width and color channel**"
      ],
      "metadata": {
        "id": "tUkvK89Um2NV"
      }
    },
    {
      "cell_type": "code",
      "source": [
        "train_images = train_images.reshape((train_images.shape[0], 28, 28, 1))\n",
        "test_images = test_images.reshape((test_images.shape[0] ,28,28,1))"
      ],
      "metadata": {
        "id": "b5AnxNCbaSmR"
      },
      "execution_count": 83,
      "outputs": []
    },
    {
      "cell_type": "markdown",
      "source": [
        "### convert the labels to one-hot encoded format :"
      ],
      "metadata": {
        "id": "1wUfV87Rolg1"
      }
    },
    {
      "cell_type": "code",
      "source": [
        "train_labels = to_categorical(train_labels)\n",
        "test_labels = to_categorical(test_labels)"
      ],
      "metadata": {
        "id": "clKFGwEFocrn"
      },
      "execution_count": 84,
      "outputs": []
    },
    {
      "cell_type": "markdown",
      "source": [
        "### **Build the CNN Model : **"
      ],
      "metadata": {
        "id": "seSG11XepABi"
      }
    },
    {
      "cell_type": "code",
      "source": [
        "model = models.Sequential()"
      ],
      "metadata": {
        "id": "Jl8CXAlio9bk"
      },
      "execution_count": 85,
      "outputs": []
    },
    {
      "cell_type": "markdown",
      "source": [
        "**now first convolutional layers :**"
      ],
      "metadata": {
        "id": "E0tsbkF08nkv"
      }
    },
    {
      "cell_type": "code",
      "source": [
        "model.add(layers.Conv2D(32, (3,3), activation='relu', input_shape=(28,28,1)))\n",
        "#32 = no. of filters\n",
        "#(3,3) = size of each filter\n",
        "#Relu is activation function applied to each pixel, setting negative value to 0\n",
        "# input shape = input dimension of the first layer"
      ],
      "metadata": {
        "colab": {
          "base_uri": "https://localhost:8080/"
        },
        "id": "bqHdNHRI6OW1",
        "outputId": "3fb494d6-1ac5-4089-d6ee-3ce3ed250315"
      },
      "execution_count": 86,
      "outputs": [
        {
          "output_type": "stream",
          "name": "stderr",
          "text": [
            "/usr/local/lib/python3.10/dist-packages/keras/src/layers/convolutional/base_conv.py:107: UserWarning: Do not pass an `input_shape`/`input_dim` argument to a layer. When using Sequential models, prefer using an `Input(shape)` object as the first layer in the model instead.\n",
            "  super().__init__(activity_regularizer=activity_regularizer, **kwargs)\n"
          ]
        }
      ]
    },
    {
      "cell_type": "code",
      "source": [
        "model.add(layers.MaxPooling2D((2,2)))\n",
        "#max pooling layer = reduce the size of the image by taking max value of each 2*2 pixel"
      ],
      "metadata": {
        "id": "i1bU9bjw6XaX"
      },
      "execution_count": 87,
      "outputs": []
    },
    {
      "cell_type": "markdown",
      "source": [
        "***now second convolutional layer : ***"
      ],
      "metadata": {
        "id": "a65doAAC8tHX"
      }
    },
    {
      "cell_type": "code",
      "source": [
        "model.add(layers.Conv2D(64, (3,3), activation= 'relu' ))"
      ],
      "metadata": {
        "id": "zwk32iQL8HbE"
      },
      "execution_count": 88,
      "outputs": []
    },
    {
      "cell_type": "code",
      "source": [
        "model.add(layers.MaxPooling2D((2,2)))"
      ],
      "metadata": {
        "id": "fZVMYMpz9VTs"
      },
      "execution_count": 89,
      "outputs": []
    },
    {
      "cell_type": "markdown",
      "source": [
        "***Third convolutional layer : ***"
      ],
      "metadata": {
        "id": "G29H84i198D0"
      }
    },
    {
      "cell_type": "code",
      "source": [
        "model.add(layers.Conv2D(64, (3,3), activation='relu'))"
      ],
      "metadata": {
        "id": "M2H8YqWv9eQa"
      },
      "execution_count": 90,
      "outputs": []
    },
    {
      "cell_type": "markdown",
      "source": [
        "### Flatten the 3D output to 1D and add a dense layer :"
      ],
      "metadata": {
        "id": "bIvlrBpv-THb"
      }
    },
    {
      "cell_type": "code",
      "source": [
        "model.add(layers.Flatten())\n",
        "model.add(layers.Dense(64, activation='relu'))"
      ],
      "metadata": {
        "id": "9E-cm0LC-KO1"
      },
      "execution_count": 91,
      "outputs": []
    },
    {
      "cell_type": "markdown",
      "source": [
        "### now output layers with 10 neurons (for 10 digits classes)"
      ],
      "metadata": {
        "id": "9d0UYu3_-sE4"
      }
    },
    {
      "cell_type": "code",
      "source": [
        "model.add(layers.Dense(10, activation='softmax'))\n",
        "# softmax convert the output to probability distribution helping the model to classify the each digit"
      ],
      "metadata": {
        "id": "GzSKs3oX-pSk"
      },
      "execution_count": 92,
      "outputs": []
    },
    {
      "cell_type": "markdown",
      "source": [
        "compile the model :"
      ],
      "metadata": {
        "id": "v4jZE-2v_J5g"
      }
    },
    {
      "cell_type": "code",
      "source": [
        "model.compile(optimizer='adam', loss='categorical_crossentropy', metrics=['accuracy'])\n",
        "'''\n",
        "adam is a popular optimization algorithm for deep learning\n",
        "categorical_crossentropy is the loss function used for multi-class classification problems\n",
        "'''"
      ],
      "metadata": {
        "colab": {
          "base_uri": "https://localhost:8080/",
          "height": 35
        },
        "id": "BzS4a7SU_HNN",
        "outputId": "05650117-444c-42d4-af1e-f2b1f9602932"
      },
      "execution_count": 93,
      "outputs": [
        {
          "output_type": "execute_result",
          "data": {
            "text/plain": [
              "'\\nadam is a popular optimization algorithm for deep learning\\ncategorical_crossentropy is the loss function used for multi-class classification problems\\n'"
            ],
            "application/vnd.google.colaboratory.intrinsic+json": {
              "type": "string"
            }
          },
          "metadata": {},
          "execution_count": 93
        }
      ]
    },
    {
      "cell_type": "markdown",
      "source": [
        "### now train the model :"
      ],
      "metadata": {
        "id": "ZTiyZ1oO_8vd"
      }
    },
    {
      "cell_type": "code",
      "source": [
        "model.fit(train_images, train_labels, epochs=5 , batch_size=64, validation_data=(test_images, test_labels))\n",
        "# epochs=5 means that model will see the entire dataset 5 times"
      ],
      "metadata": {
        "colab": {
          "base_uri": "https://localhost:8080/"
        },
        "id": "pOOxAu-Q_8Vi",
        "outputId": "4d1fe7b7-bfa3-4c90-ef34-7767c422fe29"
      },
      "execution_count": 95,
      "outputs": [
        {
          "output_type": "stream",
          "name": "stdout",
          "text": [
            "Epoch 1/5\n",
            "\u001b[1m938/938\u001b[0m \u001b[32m━━━━━━━━━━━━━━━━━━━━\u001b[0m\u001b[37m\u001b[0m \u001b[1m59s\u001b[0m 61ms/step - accuracy: 0.8737 - loss: 0.4214 - val_accuracy: 0.9840 - val_loss: 0.0529\n",
            "Epoch 2/5\n",
            "\u001b[1m938/938\u001b[0m \u001b[32m━━━━━━━━━━━━━━━━━━━━\u001b[0m\u001b[37m\u001b[0m \u001b[1m56s\u001b[0m 60ms/step - accuracy: 0.9842 - loss: 0.0523 - val_accuracy: 0.9832 - val_loss: 0.0477\n",
            "Epoch 3/5\n",
            "\u001b[1m938/938\u001b[0m \u001b[32m━━━━━━━━━━━━━━━━━━━━\u001b[0m\u001b[37m\u001b[0m \u001b[1m83s\u001b[0m 61ms/step - accuracy: 0.9891 - loss: 0.0357 - val_accuracy: 0.9895 - val_loss: 0.0320\n",
            "Epoch 4/5\n",
            "\u001b[1m938/938\u001b[0m \u001b[32m━━━━━━━━━━━━━━━━━━━━\u001b[0m\u001b[37m\u001b[0m \u001b[1m55s\u001b[0m 59ms/step - accuracy: 0.9913 - loss: 0.0281 - val_accuracy: 0.9914 - val_loss: 0.0255\n",
            "Epoch 5/5\n",
            "\u001b[1m938/938\u001b[0m \u001b[32m━━━━━━━━━━━━━━━━━━━━\u001b[0m\u001b[37m\u001b[0m \u001b[1m86s\u001b[0m 63ms/step - accuracy: 0.9934 - loss: 0.0211 - val_accuracy: 0.9880 - val_loss: 0.0361\n"
          ]
        },
        {
          "output_type": "execute_result",
          "data": {
            "text/plain": [
              "<keras.src.callbacks.history.History at 0x795503e34280>"
            ]
          },
          "metadata": {},
          "execution_count": 95
        }
      ]
    },
    {
      "cell_type": "markdown",
      "source": [
        "### **Evaluate the model on the test data : **"
      ],
      "metadata": {
        "id": "fXrsi_hIBu2X"
      }
    },
    {
      "cell_type": "code",
      "source": [
        "test_loss, test_acc = model.evaluate(test_images, test_labels)\n",
        "print(f\"Test Accuracy : {test_acc*100:.2f}%\")"
      ],
      "metadata": {
        "colab": {
          "base_uri": "https://localhost:8080/"
        },
        "id": "PtT0uuqPApp3",
        "outputId": "76a02ab2-955b-4fe4-9e0c-b9d351124fcb"
      },
      "execution_count": 96,
      "outputs": [
        {
          "output_type": "stream",
          "name": "stdout",
          "text": [
            "\u001b[1m313/313\u001b[0m \u001b[32m━━━━━━━━━━━━━━━━━━━━\u001b[0m\u001b[37m\u001b[0m \u001b[1m3s\u001b[0m 9ms/step - accuracy: 0.9841 - loss: 0.0476\n",
            "Test Accuracy : 98.80%\n"
          ]
        }
      ]
    },
    {
      "cell_type": "markdown",
      "source": [
        "### ***now make prediction on the test image : ***"
      ],
      "metadata": {
        "id": "FIhNXx0uES-F"
      }
    },
    {
      "cell_type": "code",
      "source": [
        "prediction = model.predict(test_images)\n",
        "print(f\"Prediction for the first test image : {np.argmax(prediction[4])}\")\n",
        "# np.argmax find the index with highest probability in the first prediction"
      ],
      "metadata": {
        "colab": {
          "base_uri": "https://localhost:8080/"
        },
        "id": "9znC7c6pC_hM",
        "outputId": "cfddac10-cf56-4e44-b4e7-a682e63b98f9"
      },
      "execution_count": 97,
      "outputs": [
        {
          "output_type": "stream",
          "name": "stdout",
          "text": [
            "\u001b[1m313/313\u001b[0m \u001b[32m━━━━━━━━━━━━━━━━━━━━\u001b[0m\u001b[37m\u001b[0m \u001b[1m3s\u001b[0m 9ms/step\n",
            "Prediction for the first test image : 4\n"
          ]
        }
      ]
    },
    {
      "cell_type": "code",
      "source": [
        "plt.imshow(test_images[4].reshape(28,28), cmap='gray')\n",
        "plt.title(f\"Prediction label : {prediction[4].argmax()}\")\n",
        "plt.show()"
      ],
      "metadata": {
        "colab": {
          "base_uri": "https://localhost:8080/",
          "height": 452
        },
        "id": "W4u_jTFUFCnp",
        "outputId": "6e367722-213c-449f-bc2f-0571b727f2ff"
      },
      "execution_count": 98,
      "outputs": [
        {
          "output_type": "display_data",
          "data": {
            "text/plain": [
              "<Figure size 640x480 with 1 Axes>"
            ],
            "image/png": "[encoded data removed]"
          },
          "metadata": {}
        }
      ]
    },
    {
      "cell_type": "code",
      "source": [
        "prediction = model.predict(test_images)\n",
        "print(f\"Prediction for the first test image : {np.argmax(prediction[2])}\")\n",
        "# np.argmax find the index with highest probability in the first prediction"
      ],
      "metadata": {
        "colab": {
          "base_uri": "https://localhost:8080/"
        },
        "id": "OEiXp90tFaHw",
        "outputId": "4179ce72-f752-43df-ddcf-006c28febac2"
      },
      "execution_count": 99,
      "outputs": [
        {
          "output_type": "stream",
          "name": "stdout",
          "text": [
            "\u001b[1m313/313\u001b[0m \u001b[32m━━━━━━━━━━━━━━━━━━━━\u001b[0m\u001b[37m\u001b[0m \u001b[1m3s\u001b[0m 9ms/step\n",
            "Prediction for the first test image : 1\n"
          ]
        }
      ]
    },
    {
      "cell_type": "code",
      "source": [
        "plt.imshow(test_images[2].reshape(28,28), cmap='gray')\n",
        "plt.title(f\"Prediction label : {prediction[2].argmax()}\")\n",
        "plt.show()"
      ],
      "metadata": {
        "colab": {
          "base_uri": "https://localhost:8080/",
          "height": 452
        },
        "id": "Y0_m8-PjF564",
        "outputId": "5be987d4-633b-4c03-fb22-636d42bfc338"
      },
      "execution_count": 100,
      "outputs": [
        {
          "output_type": "display_data",
          "data": {
            "text/plain": [
              "<Figure size 640x480 with 1 Axes>"
            ],
            "image/png": "[encoded data removed]"
          },
          "metadata": {}
        }
      ]
    }
  ]
}