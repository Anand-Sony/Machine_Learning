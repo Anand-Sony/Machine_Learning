{
  "nbformat": 4,
  "nbformat_minor": 0,
  "metadata": {
    "colab": {
      "provenance": []
    },
    "kernelspec": {
      "name": "python3",
      "display_name": "Python 3"
    },
    "language_info": {
      "name": "python"
    }
  },
  "cells": [
    {
      "cell_type": "code",
      "source": [
        "# import libraries :\n",
        "import pandas as pd\n",
        "from sklearn.metrics.pairwise import cosine_similarity\n",
        "from sklearn.feature_extraction.text import TfidfVectorizer"
      ],
      "metadata": {
        "id": "lfUKm6Dg_McM"
      },
      "execution_count": 38,
      "outputs": []
    },
    {
      "cell_type": "code",
      "source": [
        "'''\n",
        "cosine_similarity: Measures the similarity between two vectors, used here to compute similarity between movie genres.\n",
        "TfidfVectorizer: Converts textual data into numerical features\n",
        "'''"
      ],
      "metadata": {
        "id": "00i1C-RE_zVr",
        "colab": {
          "base_uri": "https://localhost:8080/",
          "height": 53
        },
        "outputId": "7c3b95c6-f323-4112-ec21-e333e067b203"
      },
      "execution_count": 39,
      "outputs": [
        {
          "output_type": "execute_result",
          "data": {
            "text/plain": [
              "'\\ncosine_similarity: Measures the similarity between two vectors, used here to compute similarity between movie genres.\\nTfidfVectorizer: Converts textual data into numerical features\\n'"
            ],
            "application/vnd.google.colaboratory.intrinsic+json": {
              "type": "string"
            }
          },
          "metadata": {},
          "execution_count": 39
        }
      ]
    },
    {
      "cell_type": "code",
      "source": [
        "data = pd.read_csv(\"movies.csv\")  # this dataset is taken from kaggle\n",
        "df = pd.DataFrame(data)"
      ],
      "metadata": {
        "id": "JTn549HTDsFv"
      },
      "execution_count": 40,
      "outputs": []
    },
    {
      "cell_type": "code",
      "source": [
        "#get all column names :\n",
        "df.columns"
      ],
      "metadata": {
        "colab": {
          "base_uri": "https://localhost:8080/"
        },
        "id": "_XNrKff5wYqF",
        "outputId": "b003e8d7-3cfc-4440-efb5-a980326fa6bf"
      },
      "execution_count": 41,
      "outputs": [
        {
          "output_type": "execute_result",
          "data": {
            "text/plain": [
              "Index(['name', 'rating', 'genre', 'year', 'released', 'score', 'votes',\n",
              "       'director', 'writer', 'star', 'country', 'budget', 'gross', 'company',\n",
              "       'runtime'],\n",
              "      dtype='object')"
            ]
          },
          "metadata": {},
          "execution_count": 41
        }
      ]
    },
    {
      "cell_type": "code",
      "source": [
        "df[\"name\"] = df[\"name\"].str.strip()\n",
        "df[\"genre\"] = df[\"genre\"].str.strip()\n",
        "# string method removes leading and trailing whitespace from each string.\n",
        "\n",
        "print(df)"
      ],
      "metadata": {
        "colab": {
          "base_uri": "https://localhost:8080/"
        },
        "id": "8e0EsB8PsCaP",
        "outputId": "683d435a-82ef-4dc0-9a1c-fd9d0f5f0ee3"
      },
      "execution_count": 42,
      "outputs": [
        {
          "output_type": "stream",
          "name": "stdout",
          "text": [
            "                                                name rating      genre  year  \\\n",
            "0                                        The Shining      R      Drama  1980   \n",
            "1                                    The Blue Lagoon      R  Adventure  1980   \n",
            "2     Star Wars: Episode V - The Empire Strikes Back     PG     Action  1980   \n",
            "3                                          Airplane!     PG     Comedy  1980   \n",
            "4                                         Caddyshack      R     Comedy  1980   \n",
            "...                                              ...    ...        ...   ...   \n",
            "7663                                    More to Life    NaN      Drama  2020   \n",
            "7664                                     Dream Round    NaN     Comedy  2020   \n",
            "7665                                   Saving Mbango    NaN      Drama  2020   \n",
            "7666                                    It's Just Us    NaN      Drama  2020   \n",
            "7667                                       Tee em el    NaN     Horror  2020   \n",
            "\n",
            "                              released  score      votes         director  \\\n",
            "0        June 13, 1980 (United States)    8.4   927000.0  Stanley Kubrick   \n",
            "1         July 2, 1980 (United States)    5.8    65000.0   Randal Kleiser   \n",
            "2        June 20, 1980 (United States)    8.7  1200000.0   Irvin Kershner   \n",
            "3         July 2, 1980 (United States)    7.7   221000.0     Jim Abrahams   \n",
            "4        July 25, 1980 (United States)    7.3   108000.0     Harold Ramis   \n",
            "...                                ...    ...        ...              ...   \n",
            "7663  October 23, 2020 (United States)    3.1       18.0    Joseph Ebanks   \n",
            "7664  February 7, 2020 (United States)    4.7       36.0     Dusty Dukatz   \n",
            "7665         April 27, 2020 (Cameroon)    5.7       29.0     Nkanya Nkwai   \n",
            "7666   October 1, 2020 (United States)    NaN        NaN    James Randall   \n",
            "7667   August 19, 2020 (United States)    5.7        7.0     Pereko Mosia   \n",
            "\n",
            "                       writer              star         country      budget  \\\n",
            "0                Stephen King    Jack Nicholson  United Kingdom  19000000.0   \n",
            "1     Henry De Vere Stacpoole    Brooke Shields   United States   4500000.0   \n",
            "2              Leigh Brackett       Mark Hamill   United States  18000000.0   \n",
            "3                Jim Abrahams       Robert Hays   United States   3500000.0   \n",
            "4          Brian Doyle-Murray       Chevy Chase   United States   6000000.0   \n",
            "...                       ...               ...             ...         ...   \n",
            "7663            Joseph Ebanks      Shannon Bond   United States      7000.0   \n",
            "7664              Lisa Huston  Michael Saquella   United States         NaN   \n",
            "7665             Lynno Lovert      Onyama Laura   United States     58750.0   \n",
            "7666            James Randall     Christina Roz   United States     15000.0   \n",
            "7667             Pereko Mosia  Siyabonga Mabaso    South Africa         NaN   \n",
            "\n",
            "            gross                    company  runtime  \n",
            "0      46998772.0               Warner Bros.    146.0  \n",
            "1      58853106.0          Columbia Pictures    104.0  \n",
            "2     538375067.0                  Lucasfilm    124.0  \n",
            "3      83453539.0         Paramount Pictures     88.0  \n",
            "4      39846344.0             Orion Pictures     98.0  \n",
            "...           ...                        ...      ...  \n",
            "7663          NaN                        NaN     90.0  \n",
            "7664          NaN  Cactus Blue Entertainment     90.0  \n",
            "7665          NaN           Embi Productions      NaN  \n",
            "7666          NaN                        NaN    120.0  \n",
            "7667          NaN                PK 65 Films    102.0  \n",
            "\n",
            "[7668 rows x 15 columns]\n"
          ]
        }
      ]
    },
    {
      "cell_type": "code",
      "source": [
        "# now remove the all column except name and genre\n",
        "df = df[[\"name\" , \"genre\"]]\n",
        "print(df)"
      ],
      "metadata": {
        "colab": {
          "base_uri": "https://localhost:8080/"
        },
        "id": "p9Erhb-CwGlr",
        "outputId": "f59a29e1-2b62-48bb-c437-7439e80b1ebc"
      },
      "execution_count": 43,
      "outputs": [
        {
          "output_type": "stream",
          "name": "stdout",
          "text": [
            "                                                name      genre\n",
            "0                                        The Shining      Drama\n",
            "1                                    The Blue Lagoon  Adventure\n",
            "2     Star Wars: Episode V - The Empire Strikes Back     Action\n",
            "3                                          Airplane!     Comedy\n",
            "4                                         Caddyshack     Comedy\n",
            "...                                              ...        ...\n",
            "7663                                    More to Life      Drama\n",
            "7664                                     Dream Round     Comedy\n",
            "7665                                   Saving Mbango      Drama\n",
            "7666                                    It's Just Us      Drama\n",
            "7667                                       Tee em el     Horror\n",
            "\n",
            "[7668 rows x 2 columns]\n"
          ]
        }
      ]
    },
    {
      "cell_type": "markdown",
      "source": [
        "#####define TF-IDF vectorizer to transform the genre text into the vector"
      ],
      "metadata": {
        "id": "pxEGggCEDGw3"
      }
    },
    {
      "cell_type": "code",
      "source": [
        "tfidf = TfidfVectorizer(stop_words=\"english\")  #(e.g., \"the\", \"and\") are ignored."
      ],
      "metadata": {
        "id": "nM7Eh4ptD5wh"
      },
      "execution_count": 44,
      "outputs": []
    },
    {
      "cell_type": "markdown",
      "source": [
        "###### fit and transform the genre column into a matrix of TF-IDF feature"
      ],
      "metadata": {
        "id": "YV5RD6JYDWsy"
      }
    },
    {
      "cell_type": "code",
      "source": [
        "tfidf_matrix = tfidf.fit_transform(df[\"genre\"])\n",
        "'''\n",
        "each row represents a movie, and each column represents a unique term from the genre column.\n",
        "'''"
      ],
      "metadata": {
        "colab": {
          "base_uri": "https://localhost:8080/",
          "height": 35
        },
        "id": "7uN_SRdosTbQ",
        "outputId": "532986ac-6170-4108-c4b5-f7e7ca29cdbe"
      },
      "execution_count": 45,
      "outputs": [
        {
          "output_type": "execute_result",
          "data": {
            "text/plain": [
              "'\\neach row represents a movie, and each column represents a unique term from the genre column.\\n'"
            ],
            "application/vnd.google.colaboratory.intrinsic+json": {
              "type": "string"
            }
          },
          "metadata": {},
          "execution_count": 45
        }
      ]
    },
    {
      "cell_type": "markdown",
      "source": [
        "#####compute the cosine similarity matrix :"
      ],
      "metadata": {
        "id": "SrCAVM4TDvgb"
      }
    },
    {
      "cell_type": "code",
      "source": [
        "cosine_sim = cosine_similarity(tfidf_matrix , tfidf_matrix)  #Computes pairwise cosine similarity between rows in the TF-IDF matrix."
      ],
      "metadata": {
        "id": "Sn9xLe77sXdZ"
      },
      "execution_count": 46,
      "outputs": []
    },
    {
      "cell_type": "markdown",
      "source": [
        "####function to recommend movie based on cosine similarity :"
      ],
      "metadata": {
        "id": "5CbWy8h9NCgb"
      }
    },
    {
      "cell_type": "code",
      "source": [
        "def get_recommendations(title , cosine_sim = cosine_sim, df=df):\n",
        "\n",
        "  title = title.lower()\n",
        "\n",
        "  # Check if the movie title exists in the DataFrame\n",
        "  if title not in df['name'].str.lower().values:\n",
        "    print(f\"Movie '{title}' not found in the dataset.\")\n",
        "    return []  # Return an empty list if movie not found\n",
        "\n",
        "\n",
        "  # now get the index of movie that matches the title :\n",
        "  idx = df[df[\"name\"].str.lower() == title].index[0]\n",
        "\n",
        "\n",
        "  # get the pairwise similarity source of all movie with that movie,\n",
        "  #enumerate(): Converts the similarity scores into a list of tuples (index, score)\n",
        "  sim_scores = list(enumerate(cosine_sim[idx]))\n",
        "\n",
        "\n",
        "  # sort the movie based on similarity score\n",
        "  sim_scores = sorted(sim_scores , key = lambda x : x[1], reverse = True)\n",
        "\n",
        "  # get the indices of 2 most similar movie :\n",
        "  sim_scores = sim_scores[1:3] # if 10 movie then sim_scores[1,11]\n",
        "\n",
        "  # get the movie indices\n",
        "  movie_indices = [i[0] for i in sim_scores]\n",
        "\n",
        "  #return the title of the movie :\n",
        "  return df[\"name\"].iloc[movie_indices]"
      ],
      "metadata": {
        "id": "_GtmxfnlMypA"
      },
      "execution_count": 47,
      "outputs": []
    },
    {
      "cell_type": "markdown",
      "source": [
        "###test the recommendatioon system with an example :"
      ],
      "metadata": {
        "id": "T-Rxohr6Sk9x"
      }
    },
    {
      "cell_type": "code",
      "source": [
        "movie_title = \"More to life\"\n",
        "recommendations = get_recommendations(movie_title)\n",
        "print(f\"Recommended movie for {movie_title} : \")\n",
        "\n",
        "for movie in recommendations:\n",
        "  print(movie)"
      ],
      "metadata": {
        "colab": {
          "base_uri": "https://localhost:8080/"
        },
        "id": "uIK4CNSvNlHI",
        "outputId": "e7920b57-fd72-4f9c-9f0d-4bde1a0e9586"
      },
      "execution_count": 48,
      "outputs": [
        {
          "output_type": "stream",
          "name": "stdout",
          "text": [
            "Recommended movie for More to life : \n",
            "Ordinary People\n",
            "Somewhere in Time\n"
          ]
        }
      ]
    },
    {
      "cell_type": "code",
      "source": [
        "movie_title = \"Krish\"\n",
        "recommendations = get_recommendations(movie_title)\n",
        "print(f\"Recommended movie for {movie_title} : \")\n",
        "\n",
        "for movie in recommendations:\n",
        "  print(movie)"
      ],
      "metadata": {
        "colab": {
          "base_uri": "https://localhost:8080/"
        },
        "id": "k_a97kVNS-Cc",
        "outputId": "5fad3e9f-ad7e-48e7-e795-fb4727757f3a"
      },
      "execution_count": 49,
      "outputs": [
        {
          "output_type": "stream",
          "name": "stdout",
          "text": [
            "Movie 'krish' not found in the dataset.\n",
            "Recommended movie for Krish : \n"
          ]
        }
      ]
    },
    {
      "cell_type": "code",
      "source": [],
      "metadata": {
        "id": "VwLWWY7orj_N"
      },
      "execution_count": 49,
      "outputs": []
    }
  ]
}