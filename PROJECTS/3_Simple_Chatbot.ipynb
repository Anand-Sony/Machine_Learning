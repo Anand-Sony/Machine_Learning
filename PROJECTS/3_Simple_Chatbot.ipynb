{
  "nbformat": 4,
  "nbformat_minor": 0,
  "metadata": {
    "colab": {
      "provenance": []
    },
    "kernelspec": {
      "name": "python3",
      "display_name": "Python 3"
    },
    "language_info": {
      "name": "python"
    }
  },
  "cells": [
    {
      "cell_type": "code",
      "execution_count": null,
      "metadata": {
        "id": "ZwOd_15kr2NI"
      },
      "outputs": [],
      "source": [
        "# import regular expression to handle pattern matching\n",
        "import re"
      ]
    },
    {
      "cell_type": "code",
      "source": [
        "# predefined responses :\n",
        "responses = {\n",
        "    \"hello\": \"Hi there! How can I assist you today?\",\n",
        "    \"hi\": \"Hi there! How can I assist you today?\",\n",
        "    \"how are you\": \"I'm just a computer program, but I'm here to help you!\",\n",
        "    \"what is your name\": \"I don't have a name. I'm just a chatbot.\",\n",
        "    \"bye\": \"Goodbye! Have a great day!\",\n",
        "    \"default\": \"I'm sorry, I didn't understand that. Can you please rephrase?\"\n",
        "}"
      ],
      "metadata": {
        "id": "tXpoNd1ssEUY"
      },
      "execution_count": null,
      "outputs": []
    },
    {
      "cell_type": "code",
      "source": [
        "#function to find appropriate response based on user's input :\n",
        "def chatBot_response(user_input):\n",
        "  #convert user input to lower case to make matching case-insensitive\n",
        "  user_input = user_input.lower()\n",
        "\n",
        "  # iterate through predefined keyword and check if any keyword in the user'sinput\n",
        "  for keyword in responses:\n",
        "    if re.search(keyword , user_input):\n",
        "      return responses[keyword]\n",
        "\n",
        "  return responses[\"default\"]"
      ],
      "metadata": {
        "id": "95A-wQWxsaWz"
      },
      "execution_count": null,
      "outputs": []
    },
    {
      "cell_type": "code",
      "source": [
        "# main funvtion to run the chatbot :\n",
        "def chatbot():\n",
        "  print(\"Hello! I'm a chatbot. How can I assist you today? (type bye to exit..)\")\n",
        "\n",
        "  while True:\n",
        "    #get user input\n",
        "    user_input = input(\"you: \")\n",
        "\n",
        "    # if user input \"bye\" then exit the loop\n",
        "    if user_input.lower()==\"bye\":\n",
        "      print(\"Chatbot: Goodbye! Have a nice Day\")\n",
        "      break\n",
        "\n",
        "    # get chatbot response based on the user input\n",
        "    response = chatBot_response(user_input)\n",
        "\n",
        "    print(f\"Chatbot: {response}\")"
      ],
      "metadata": {
        "id": "Js4RyR54tqhJ"
      },
      "execution_count": null,
      "outputs": []
    },
    {
      "cell_type": "code",
      "source": [
        "# run the chatbot :\n",
        "chatbot()"
      ],
      "metadata": {
        "colab": {
          "base_uri": "https://localhost:8080/"
        },
        "id": "E-5iedMfzPBX",
        "outputId": "e5b988ec-ee3e-4e10-ecc9-b0f1ed765e09"
      },
      "execution_count": null,
      "outputs": [
        {
          "output_type": "stream",
          "name": "stdout",
          "text": [
            "Hello! I'm a chatbot. How can I assist you today? (type bye to exit..)\n",
            "you: bye\n",
            "Chatbot: Goodbye! Have a nice Day\n"
          ]
        }
      ]
    },
    {
      "cell_type": "code",
      "source": [],
      "metadata": {
        "id": "3patPfxL0iEP"
      },
      "execution_count": null,
      "outputs": []
    },
    {
      "cell_type": "code",
      "source": [
        "chatbot()"
      ],
      "metadata": {
        "colab": {
          "base_uri": "https://localhost:8080/"
        },
        "id": "lSG1YsWBzTPx",
        "outputId": "476bf29c-9d1c-4bc5-f2c9-2baf6c24d399"
      },
      "execution_count": null,
      "outputs": [
        {
          "output_type": "stream",
          "name": "stdout",
          "text": [
            "Hello! I'm a chatbot. How can I assist you today? (type bye to exit..)\n",
            "you: csvdv\n",
            "Chatbot: I'm sorry, I didn't understand that. Can you please rephrase?\n",
            "you: asdhakjs\n",
            "Chatbot: I'm sorry, I didn't understand that. Can you please rephrase?\n",
            "you: Hello\n",
            "Chatbot: Hi there! How can I assist you today?\n",
            "you: bye\n",
            "Chatbot: Goodbye! Have a nice Day\n"
          ]
        }
      ]
    },
    {
      "cell_type": "code",
      "source": [],
      "metadata": {
        "id": "YrK_BMqJzWZ-"
      },
      "execution_count": null,
      "outputs": []
    }
  ]
}