{
  "nbformat": 4,
  "nbformat_minor": 0,
  "metadata": {
    "colab": {
      "provenance": []
    },
    "kernelspec": {
      "name": "python3",
      "display_name": "Python 3"
    },
    "language_info": {
      "name": "python"
    }
  },
  "cells": [
    {
      "cell_type": "code",
      "execution_count": 196,
      "metadata": {
        "id": "na-cAi-Erflf"
      },
      "outputs": [],
      "source": [
        "import pandas as pd\n",
        "import numpy as np\n",
        "import seaborn as sns\n",
        "import matplotlib.pyplot as plt"
      ]
    },
    {
      "cell_type": "code",
      "source": [
        "df = pd.read_csv(\"Bearing Feature Extracted Full.csv\", header=0)"
      ],
      "metadata": {
        "id": "-x1oivMUrxRS"
      },
      "execution_count": 197,
      "outputs": []
    },
    {
      "cell_type": "code",
      "source": [
        "df.head()"
      ],
      "metadata": {
        "colab": {
          "base_uri": "https://localhost:8080/",
          "height": 256
        },
        "id": "7AIwekJir3h6",
        "outputId": "a60ff76c-317f-4865-b2c1-08a1fe69ecf3"
      },
      "execution_count": 198,
      "outputs": [
        {
          "output_type": "execute_result",
          "data": {
            "text/plain": [
              "   start_time      FFT_0     FFT_1     FFT_2     FFT_3     FFT_4     FFT_5  \\\n",
              "0    0.000000  31.315536  0.026463  0.022552  0.020844  0.008484  0.011385   \n",
              "1    0.000382  31.258407  0.064264  0.013386  0.012085  0.026802  0.041938   \n",
              "2    0.000765  31.301679  0.050746  0.012241  0.027052  0.003939  0.010544   \n",
              "3    0.001147  31.257833  0.009600  0.043856  0.057151  0.012073  0.022455   \n",
              "4    0.001529  31.365595  0.023202  0.021665  0.021480  0.018160  0.023118   \n",
              "\n",
              "      FFT_6     FFT_7     FFT_8  ...     Energy  Average_Magnitude  \\\n",
              "0  0.038506  0.025452  0.019910  ...  19.614395           0.653266   \n",
              "1  0.017024  0.029024  0.044788  ...  19.550670           0.693811   \n",
              "2  0.035028  0.027375  0.020011  ...  19.597787           0.659434   \n",
              "3  0.090118  0.028734  0.032152  ...  19.545345           0.671155   \n",
              "4  0.031493  0.007047  0.009308  ...  19.677177           0.653185   \n",
              "\n",
              "   Form_Factor  Zero_Crossing_Rate  10th_Percentile  90th_Percentile  \\\n",
              "0    30.025117                0.52         0.620196         0.632019   \n",
              "1    28.178667                0.50         0.607379         0.640365   \n",
              "2    29.719099                0.48         0.618228         0.633443   \n",
              "3    29.121952                0.48         0.614173         0.638312   \n",
              "4    30.124962                0.48         0.621781         0.633580   \n",
              "\n",
              "   80_Percent_Range  Robust_Standard_Deviation  Turning_Point_Ratio  key  \n",
              "0          0.011823                   0.004271                  1.0    1  \n",
              "1          0.032986                   0.013683                  1.0    1  \n",
              "2          0.015215                   0.006517                  1.0    1  \n",
              "3          0.024139                   0.009245                  1.0    1  \n",
              "4          0.011799                   0.004339                  1.0    1  \n",
              "\n",
              "[5 rows x 77 columns]"
            ],
            "text/html": [
              "\n",
              "  <div id=\"df-6667e09f-812c-41d4-a869-a08ca0a1eb5a\" class=\"colab-df-container\">\n",
              "    <div>\n",
              "<style scoped>\n",
              "    .dataframe tbody tr th:only-of-type {\n",
              "        vertical-align: middle;\n",
              "    }\n",
              "\n",
              "    .dataframe tbody tr th {\n",
              "        vertical-align: top;\n",
              "    }\n",
              "\n",
              "    .dataframe thead th {\n",
              "        text-align: right;\n",
              "    }\n",
              "</style>\n",
              "<table border=\"1\" class=\"dataframe\">\n",
              "  <thead>\n",
              "    <tr style=\"text-align: right;\">\n",
              "      <th></th>\n",
              "      <th>start_time</th>\n",
              "      <th>FFT_0</th>\n",
              "      <th>FFT_1</th>\n",
              "      <th>FFT_2</th>\n",
              "      <th>FFT_3</th>\n",
              "      <th>FFT_4</th>\n",
              "      <th>FFT_5</th>\n",
              "      <th>FFT_6</th>\n",
              "      <th>FFT_7</th>\n",
              "      <th>FFT_8</th>\n",
              "      <th>...</th>\n",
              "      <th>Energy</th>\n",
              "      <th>Average_Magnitude</th>\n",
              "      <th>Form_Factor</th>\n",
              "      <th>Zero_Crossing_Rate</th>\n",
              "      <th>10th_Percentile</th>\n",
              "      <th>90th_Percentile</th>\n",
              "      <th>80_Percent_Range</th>\n",
              "      <th>Robust_Standard_Deviation</th>\n",
              "      <th>Turning_Point_Ratio</th>\n",
              "      <th>key</th>\n",
              "    </tr>\n",
              "  </thead>\n",
              "  <tbody>\n",
              "    <tr>\n",
              "      <th>0</th>\n",
              "      <td>0.000000</td>\n",
              "      <td>31.315536</td>\n",
              "      <td>0.026463</td>\n",
              "      <td>0.022552</td>\n",
              "      <td>0.020844</td>\n",
              "      <td>0.008484</td>\n",
              "      <td>0.011385</td>\n",
              "      <td>0.038506</td>\n",
              "      <td>0.025452</td>\n",
              "      <td>0.019910</td>\n",
              "      <td>...</td>\n",
              "      <td>19.614395</td>\n",
              "      <td>0.653266</td>\n",
              "      <td>30.025117</td>\n",
              "      <td>0.52</td>\n",
              "      <td>0.620196</td>\n",
              "      <td>0.632019</td>\n",
              "      <td>0.011823</td>\n",
              "      <td>0.004271</td>\n",
              "      <td>1.0</td>\n",
              "      <td>1</td>\n",
              "    </tr>\n",
              "    <tr>\n",
              "      <th>1</th>\n",
              "      <td>0.000382</td>\n",
              "      <td>31.258407</td>\n",
              "      <td>0.064264</td>\n",
              "      <td>0.013386</td>\n",
              "      <td>0.012085</td>\n",
              "      <td>0.026802</td>\n",
              "      <td>0.041938</td>\n",
              "      <td>0.017024</td>\n",
              "      <td>0.029024</td>\n",
              "      <td>0.044788</td>\n",
              "      <td>...</td>\n",
              "      <td>19.550670</td>\n",
              "      <td>0.693811</td>\n",
              "      <td>28.178667</td>\n",
              "      <td>0.50</td>\n",
              "      <td>0.607379</td>\n",
              "      <td>0.640365</td>\n",
              "      <td>0.032986</td>\n",
              "      <td>0.013683</td>\n",
              "      <td>1.0</td>\n",
              "      <td>1</td>\n",
              "    </tr>\n",
              "    <tr>\n",
              "      <th>2</th>\n",
              "      <td>0.000765</td>\n",
              "      <td>31.301679</td>\n",
              "      <td>0.050746</td>\n",
              "      <td>0.012241</td>\n",
              "      <td>0.027052</td>\n",
              "      <td>0.003939</td>\n",
              "      <td>0.010544</td>\n",
              "      <td>0.035028</td>\n",
              "      <td>0.027375</td>\n",
              "      <td>0.020011</td>\n",
              "      <td>...</td>\n",
              "      <td>19.597787</td>\n",
              "      <td>0.659434</td>\n",
              "      <td>29.719099</td>\n",
              "      <td>0.48</td>\n",
              "      <td>0.618228</td>\n",
              "      <td>0.633443</td>\n",
              "      <td>0.015215</td>\n",
              "      <td>0.006517</td>\n",
              "      <td>1.0</td>\n",
              "      <td>1</td>\n",
              "    </tr>\n",
              "    <tr>\n",
              "      <th>3</th>\n",
              "      <td>0.001147</td>\n",
              "      <td>31.257833</td>\n",
              "      <td>0.009600</td>\n",
              "      <td>0.043856</td>\n",
              "      <td>0.057151</td>\n",
              "      <td>0.012073</td>\n",
              "      <td>0.022455</td>\n",
              "      <td>0.090118</td>\n",
              "      <td>0.028734</td>\n",
              "      <td>0.032152</td>\n",
              "      <td>...</td>\n",
              "      <td>19.545345</td>\n",
              "      <td>0.671155</td>\n",
              "      <td>29.121952</td>\n",
              "      <td>0.48</td>\n",
              "      <td>0.614173</td>\n",
              "      <td>0.638312</td>\n",
              "      <td>0.024139</td>\n",
              "      <td>0.009245</td>\n",
              "      <td>1.0</td>\n",
              "      <td>1</td>\n",
              "    </tr>\n",
              "    <tr>\n",
              "      <th>4</th>\n",
              "      <td>0.001529</td>\n",
              "      <td>31.365595</td>\n",
              "      <td>0.023202</td>\n",
              "      <td>0.021665</td>\n",
              "      <td>0.021480</td>\n",
              "      <td>0.018160</td>\n",
              "      <td>0.023118</td>\n",
              "      <td>0.031493</td>\n",
              "      <td>0.007047</td>\n",
              "      <td>0.009308</td>\n",
              "      <td>...</td>\n",
              "      <td>19.677177</td>\n",
              "      <td>0.653185</td>\n",
              "      <td>30.124962</td>\n",
              "      <td>0.48</td>\n",
              "      <td>0.621781</td>\n",
              "      <td>0.633580</td>\n",
              "      <td>0.011799</td>\n",
              "      <td>0.004339</td>\n",
              "      <td>1.0</td>\n",
              "      <td>1</td>\n",
              "    </tr>\n",
              "  </tbody>\n",
              "</table>\n",
              "<p>5 rows × 77 columns</p>\n",
              "</div>\n",
              "    <div class=\"colab-df-buttons\">\n",
              "\n",
              "  <div class=\"colab-df-container\">\n",
              "    <button class=\"colab-df-convert\" onclick=\"convertToInteractive('df-6667e09f-812c-41d4-a869-a08ca0a1eb5a')\"\n",
              "            title=\"Convert this dataframe to an interactive table.\"\n",
              "            style=\"display:none;\">\n",
              "\n",
              "  <svg xmlns=\"http://www.w3.org/2000/svg\" height=\"24px\" viewBox=\"0 -960 960 960\">\n",
              "    <path d=\"M120-120v-720h720v720H120Zm60-500h600v-160H180v160Zm220 220h160v-160H400v160Zm0 220h160v-160H400v160ZM180-400h160v-160H180v160Zm440 0h160v-160H620v160ZM180-180h160v-160H180v160Zm440 0h160v-160H620v160Z\"/>\n",
              "  </svg>\n",
              "    </button>\n",
              "\n",
              "  <style>\n",
              "    .colab-df-container {\n",
              "      display:flex;\n",
              "      gap: 12px;\n",
              "    }\n",
              "\n",
              "    .colab-df-convert {\n",
              "      background-color: #E8F0FE;\n",
              "      border: none;\n",
              "      border-radius: 50%;\n",
              "      cursor: pointer;\n",
              "      display: none;\n",
              "      fill: #1967D2;\n",
              "      height: 32px;\n",
              "      padding: 0 0 0 0;\n",
              "      width: 32px;\n",
              "    }\n",
              "\n",
              "    .colab-df-convert:hover {\n",
              "      background-color: #E2EBFA;\n",
              "      box-shadow: 0px 1px 2px rgba(60, 64, 67, 0.3), 0px 1px 3px 1px rgba(60, 64, 67, 0.15);\n",
              "      fill: #174EA6;\n",
              "    }\n",
              "\n",
              "    .colab-df-buttons div {\n",
              "      margin-bottom: 4px;\n",
              "    }\n",
              "\n",
              "    [theme=dark] .colab-df-convert {\n",
              "      background-color: #3B4455;\n",
              "      fill: #D2E3FC;\n",
              "    }\n",
              "\n",
              "    [theme=dark] .colab-df-convert:hover {\n",
              "      background-color: #434B5C;\n",
              "      box-shadow: 0px 1px 3px 1px rgba(0, 0, 0, 0.15);\n",
              "      filter: drop-shadow(0px 1px 2px rgba(0, 0, 0, 0.3));\n",
              "      fill: #FFFFFF;\n",
              "    }\n",
              "  </style>\n",
              "\n",
              "    <script>\n",
              "      const buttonEl =\n",
              "        document.querySelector('#df-6667e09f-812c-41d4-a869-a08ca0a1eb5a button.colab-df-convert');\n",
              "      buttonEl.style.display =\n",
              "        google.colab.kernel.accessAllowed ? 'block' : 'none';\n",
              "\n",
              "      async function convertToInteractive(key) {\n",
              "        const element = document.querySelector('#df-6667e09f-812c-41d4-a869-a08ca0a1eb5a');\n",
              "        const dataTable =\n",
              "          await google.colab.kernel.invokeFunction('convertToInteractive',\n",
              "                                                    [key], {});\n",
              "        if (!dataTable) return;\n",
              "\n",
              "        const docLinkHtml = 'Like what you see? Visit the ' +\n",
              "          '<a target=\"_blank\" href=https://colab.research.google.com/notebooks/data_table.ipynb>data table notebook</a>'\n",
              "          + ' to learn more about interactive tables.';\n",
              "        element.innerHTML = '';\n",
              "        dataTable['output_type'] = 'display_data';\n",
              "        await google.colab.output.renderOutput(dataTable, element);\n",
              "        const docLink = document.createElement('div');\n",
              "        docLink.innerHTML = docLinkHtml;\n",
              "        element.appendChild(docLink);\n",
              "      }\n",
              "    </script>\n",
              "  </div>\n",
              "\n",
              "\n",
              "    <div id=\"df-f5a6ac85-e459-4dd2-8535-67a054328e7f\">\n",
              "      <button class=\"colab-df-quickchart\" onclick=\"quickchart('df-f5a6ac85-e459-4dd2-8535-67a054328e7f')\"\n",
              "                title=\"Suggest charts\"\n",
              "                style=\"display:none;\">\n",
              "\n",
              "<svg xmlns=\"http://www.w3.org/2000/svg\" height=\"24px\"viewBox=\"0 0 24 24\"\n",
              "     width=\"24px\">\n",
              "    <g>\n",
              "        <path d=\"M19 3H5c-1.1 0-2 .9-2 2v14c0 1.1.9 2 2 2h14c1.1 0 2-.9 2-2V5c0-1.1-.9-2-2-2zM9 17H7v-7h2v7zm4 0h-2V7h2v10zm4 0h-2v-4h2v4z\"/>\n",
              "    </g>\n",
              "</svg>\n",
              "      </button>\n",
              "\n",
              "<style>\n",
              "  .colab-df-quickchart {\n",
              "      --bg-color: #E8F0FE;\n",
              "      --fill-color: #1967D2;\n",
              "      --hover-bg-color: #E2EBFA;\n",
              "      --hover-fill-color: #174EA6;\n",
              "      --disabled-fill-color: #AAA;\n",
              "      --disabled-bg-color: #DDD;\n",
              "  }\n",
              "\n",
              "  [theme=dark] .colab-df-quickchart {\n",
              "      --bg-color: #3B4455;\n",
              "      --fill-color: #D2E3FC;\n",
              "      --hover-bg-color: #434B5C;\n",
              "      --hover-fill-color: #FFFFFF;\n",
              "      --disabled-bg-color: #3B4455;\n",
              "      --disabled-fill-color: #666;\n",
              "  }\n",
              "\n",
              "  .colab-df-quickchart {\n",
              "    background-color: var(--bg-color);\n",
              "    border: none;\n",
              "    border-radius: 50%;\n",
              "    cursor: pointer;\n",
              "    display: none;\n",
              "    fill: var(--fill-color);\n",
              "    height: 32px;\n",
              "    padding: 0;\n",
              "    width: 32px;\n",
              "  }\n",
              "\n",
              "  .colab-df-quickchart:hover {\n",
              "    background-color: var(--hover-bg-color);\n",
              "    box-shadow: 0 1px 2px rgba(60, 64, 67, 0.3), 0 1px 3px 1px rgba(60, 64, 67, 0.15);\n",
              "    fill: var(--button-hover-fill-color);\n",
              "  }\n",
              "\n",
              "  .colab-df-quickchart-complete:disabled,\n",
              "  .colab-df-quickchart-complete:disabled:hover {\n",
              "    background-color: var(--disabled-bg-color);\n",
              "    fill: var(--disabled-fill-color);\n",
              "    box-shadow: none;\n",
              "  }\n",
              "\n",
              "  .colab-df-spinner {\n",
              "    border: 2px solid var(--fill-color);\n",
              "    border-color: transparent;\n",
              "    border-bottom-color: var(--fill-color);\n",
              "    animation:\n",
              "      spin 1s steps(1) infinite;\n",
              "  }\n",
              "\n",
              "  @keyframes spin {\n",
              "    0% {\n",
              "      border-color: transparent;\n",
              "      border-bottom-color: var(--fill-color);\n",
              "      border-left-color: var(--fill-color);\n",
              "    }\n",
              "    20% {\n",
              "      border-color: transparent;\n",
              "      border-left-color: var(--fill-color);\n",
              "      border-top-color: var(--fill-color);\n",
              "    }\n",
              "    30% {\n",
              "      border-color: transparent;\n",
              "      border-left-color: var(--fill-color);\n",
              "      border-top-color: var(--fill-color);\n",
              "      border-right-color: var(--fill-color);\n",
              "    }\n",
              "    40% {\n",
              "      border-color: transparent;\n",
              "      border-right-color: var(--fill-color);\n",
              "      border-top-color: var(--fill-color);\n",
              "    }\n",
              "    60% {\n",
              "      border-color: transparent;\n",
              "      border-right-color: var(--fill-color);\n",
              "    }\n",
              "    80% {\n",
              "      border-color: transparent;\n",
              "      border-right-color: var(--fill-color);\n",
              "      border-bottom-color: var(--fill-color);\n",
              "    }\n",
              "    90% {\n",
              "      border-color: transparent;\n",
              "      border-bottom-color: var(--fill-color);\n",
              "    }\n",
              "  }\n",
              "</style>\n",
              "\n",
              "      <script>\n",
              "        async function quickchart(key) {\n",
              "          const quickchartButtonEl =\n",
              "            document.querySelector('#' + key + ' button');\n",
              "          quickchartButtonEl.disabled = true;  // To prevent multiple clicks.\n",
              "          quickchartButtonEl.classList.add('colab-df-spinner');\n",
              "          try {\n",
              "            const charts = await google.colab.kernel.invokeFunction(\n",
              "                'suggestCharts', [key], {});\n",
              "          } catch (error) {\n",
              "            console.error('Error during call to suggestCharts:', error);\n",
              "          }\n",
              "          quickchartButtonEl.classList.remove('colab-df-spinner');\n",
              "          quickchartButtonEl.classList.add('colab-df-quickchart-complete');\n",
              "        }\n",
              "        (() => {\n",
              "          let quickchartButtonEl =\n",
              "            document.querySelector('#df-f5a6ac85-e459-4dd2-8535-67a054328e7f button');\n",
              "          quickchartButtonEl.style.display =\n",
              "            google.colab.kernel.accessAllowed ? 'block' : 'none';\n",
              "        })();\n",
              "      </script>\n",
              "    </div>\n",
              "\n",
              "    </div>\n",
              "  </div>\n"
            ],
            "application/vnd.google.colaboratory.intrinsic+json": {
              "type": "dataframe",
              "variable_name": "df"
            }
          },
          "metadata": {},
          "execution_count": 198
        }
      ]
    },
    {
      "cell_type": "code",
      "source": [
        "df.info()"
      ],
      "metadata": {
        "colab": {
          "base_uri": "https://localhost:8080/"
        },
        "id": "80-d9ZlBr4g0",
        "outputId": "38f783cf-5cda-4081-8320-c87ac69f3319"
      },
      "execution_count": 199,
      "outputs": [
        {
          "output_type": "stream",
          "name": "stdout",
          "text": [
            "<class 'pandas.core.frame.DataFrame'>\n",
            "RangeIndex: 15696 entries, 0 to 15695\n",
            "Data columns (total 77 columns):\n",
            " #   Column                                Non-Null Count  Dtype  \n",
            "---  ------                                --------------  -----  \n",
            " 0   start_time                            15696 non-null  float64\n",
            " 1   FFT_0                                 15696 non-null  float64\n",
            " 2   FFT_1                                 15696 non-null  float64\n",
            " 3   FFT_2                                 15696 non-null  float64\n",
            " 4   FFT_3                                 15696 non-null  float64\n",
            " 5   FFT_4                                 15696 non-null  float64\n",
            " 6   FFT_5                                 15696 non-null  float64\n",
            " 7   FFT_6                                 15696 non-null  float64\n",
            " 8   FFT_7                                 15696 non-null  float64\n",
            " 9   FFT_8                                 15696 non-null  float64\n",
            " 10  FFT_9                                 15696 non-null  float64\n",
            " 11  ARIMA_AR_0                            15696 non-null  float64\n",
            " 12  ARIMA_AR_1                            15696 non-null  float64\n",
            " 13  ARIMA_AR_2                            15696 non-null  float64\n",
            " 14  ARIMA_AR_3                            15696 non-null  float64\n",
            " 15  ARIMA_AR_4                            15696 non-null  float64\n",
            " 16  ARIMA_AR_5                            15696 non-null  float64\n",
            " 17  ARIMA_AR_6                            15696 non-null  float64\n",
            " 18  ARIMA_AR_7                            15696 non-null  float64\n",
            " 19  ARIMA_AR_8                            15696 non-null  float64\n",
            " 20  ARIMA_AR_9                            15696 non-null  float64\n",
            " 21  ARIMA_AR_0.1                          15696 non-null  float64\n",
            " 22  ARIMA_AR_1.1                          15696 non-null  float64\n",
            " 23  ARIMA_AR_2.1                          15696 non-null  float64\n",
            " 24  ARIMA_AR_3.1                          15696 non-null  float64\n",
            " 25  ARIMA_AR_4.1                          15696 non-null  float64\n",
            " 26  ARIMA_AR_5.1                          15696 non-null  float64\n",
            " 27  ARIMA_AR_6.1                          15696 non-null  float64\n",
            " 28  ARIMA_AR_7.1                          15696 non-null  float64\n",
            " 29  ARIMA_AR_8.1                          15696 non-null  float64\n",
            " 30  ARIMA_AR_9.1                          15696 non-null  float64\n",
            " 31  Minimum_Value                         15696 non-null  float64\n",
            " 32  Maximum_Value                         15696 non-null  float64\n",
            " 33  Mean                                  15696 non-null  float64\n",
            " 34  Standard_Deviation                    15696 non-null  float64\n",
            " 35  Variance                              15696 non-null  float64\n",
            " 36  Skewness                              15696 non-null  float64\n",
            " 37  Kurtosis                              15696 non-null  float64\n",
            " 38  Median                                15696 non-null  float64\n",
            " 39  Median_Absolute_Deviation             15696 non-null  float64\n",
            " 40  75th_Percentile                       15696 non-null  float64\n",
            " 41  25th_Percentile                       15696 non-null  float64\n",
            " 42  Interquartile_Range                   15696 non-null  float64\n",
            " 43  Standard_Error                        15696 non-null  float64\n",
            " 44  Root_Mean_Square                      15696 non-null  float64\n",
            " 45  Crest_Factor                          15696 non-null  float64\n",
            " 46  Shape_Factor                          15696 non-null  float64\n",
            " 47  Impulse_Factor                        15696 non-null  float64\n",
            " 48  Clearance_Factor                      15696 non-null  float64\n",
            " 49  Skewness_Factor                       15696 non-null  float64\n",
            " 50  Kurtosis_Factor                       15696 non-null  float64\n",
            " 51  Absolute_Mean                         15696 non-null  float64\n",
            " 52  Sum                                   15696 non-null  float64\n",
            " 53  Absolute_Sum                          15696 non-null  float64\n",
            " 54  Sum_of_Squares                        15696 non-null  float64\n",
            " 55  Sum_of_Cubes                          15696 non-null  float64\n",
            " 56  Sum_of_Fourth_Powers                  15696 non-null  float64\n",
            " 57  Root_Sum_of_Squares                   15696 non-null  float64\n",
            " 58  Range                                 15696 non-null  float64\n",
            " 59  Peak_to_Peak_Amplitude                15696 non-null  float64\n",
            " 60  Mean_Absolute_Change                  15696 non-null  float64\n",
            " 61  Mean_Square_of_First_Difference       15696 non-null  float64\n",
            " 62  Root_Mean_Square_of_First_Difference  15696 non-null  float64\n",
            " 63  Mean_Absolute_Deviation               15696 non-null  float64\n",
            " 64  Median_Absolute_Deviation_from_Mean   15696 non-null  float64\n",
            " 65  Shannon_Entropy                       15696 non-null  float64\n",
            " 66  Average_of_Trapezoidal_Integral       15696 non-null  float64\n",
            " 67  Energy                                15696 non-null  float64\n",
            " 68  Average_Magnitude                     15696 non-null  float64\n",
            " 69  Form_Factor                           15696 non-null  float64\n",
            " 70  Zero_Crossing_Rate                    15696 non-null  float64\n",
            " 71  10th_Percentile                       15696 non-null  float64\n",
            " 72  90th_Percentile                       15696 non-null  float64\n",
            " 73  80_Percent_Range                      15696 non-null  float64\n",
            " 74  Robust_Standard_Deviation             15696 non-null  float64\n",
            " 75  Turning_Point_Ratio                   15696 non-null  float64\n",
            " 76  key                                   15696 non-null  int64  \n",
            "dtypes: float64(76), int64(1)\n",
            "memory usage: 9.2 MB\n"
          ]
        }
      ]
    },
    {
      "cell_type": "code",
      "source": [
        "df.isnull().sum()"
      ],
      "metadata": {
        "colab": {
          "base_uri": "https://localhost:8080/",
          "height": 458
        },
        "id": "a0CYCtAEr5YZ",
        "outputId": "bf4ec8b7-6d28-4d7e-be79-ec25a6e58c6f"
      },
      "execution_count": 200,
      "outputs": [
        {
          "output_type": "execute_result",
          "data": {
            "text/plain": [
              "start_time                   0\n",
              "FFT_0                        0\n",
              "FFT_1                        0\n",
              "FFT_2                        0\n",
              "FFT_3                        0\n",
              "                            ..\n",
              "90th_Percentile              0\n",
              "80_Percent_Range             0\n",
              "Robust_Standard_Deviation    0\n",
              "Turning_Point_Ratio          0\n",
              "key                          0\n",
              "Length: 77, dtype: int64"
            ],
            "text/html": [
              "<div>\n",
              "<style scoped>\n",
              "    .dataframe tbody tr th:only-of-type {\n",
              "        vertical-align: middle;\n",
              "    }\n",
              "\n",
              "    .dataframe tbody tr th {\n",
              "        vertical-align: top;\n",
              "    }\n",
              "\n",
              "    .dataframe thead th {\n",
              "        text-align: right;\n",
              "    }\n",
              "</style>\n",
              "<table border=\"1\" class=\"dataframe\">\n",
              "  <thead>\n",
              "    <tr style=\"text-align: right;\">\n",
              "      <th></th>\n",
              "      <th>0</th>\n",
              "    </tr>\n",
              "  </thead>\n",
              "  <tbody>\n",
              "    <tr>\n",
              "      <th>start_time</th>\n",
              "      <td>0</td>\n",
              "    </tr>\n",
              "    <tr>\n",
              "      <th>FFT_0</th>\n",
              "      <td>0</td>\n",
              "    </tr>\n",
              "    <tr>\n",
              "      <th>FFT_1</th>\n",
              "      <td>0</td>\n",
              "    </tr>\n",
              "    <tr>\n",
              "      <th>FFT_2</th>\n",
              "      <td>0</td>\n",
              "    </tr>\n",
              "    <tr>\n",
              "      <th>FFT_3</th>\n",
              "      <td>0</td>\n",
              "    </tr>\n",
              "    <tr>\n",
              "      <th>...</th>\n",
              "      <td>...</td>\n",
              "    </tr>\n",
              "    <tr>\n",
              "      <th>90th_Percentile</th>\n",
              "      <td>0</td>\n",
              "    </tr>\n",
              "    <tr>\n",
              "      <th>80_Percent_Range</th>\n",
              "      <td>0</td>\n",
              "    </tr>\n",
              "    <tr>\n",
              "      <th>Robust_Standard_Deviation</th>\n",
              "      <td>0</td>\n",
              "    </tr>\n",
              "    <tr>\n",
              "      <th>Turning_Point_Ratio</th>\n",
              "      <td>0</td>\n",
              "    </tr>\n",
              "    <tr>\n",
              "      <th>key</th>\n",
              "      <td>0</td>\n",
              "    </tr>\n",
              "  </tbody>\n",
              "</table>\n",
              "<p>77 rows × 1 columns</p>\n",
              "</div><br><label><b>dtype:</b> int64</label>"
            ]
          },
          "metadata": {},
          "execution_count": 200
        }
      ]
    },
    {
      "cell_type": "code",
      "source": [
        "if \"start_time\" in df.columns:\n",
        "  df.drop(axis=1, inplace=True, columns=[\"start_time\"])"
      ],
      "metadata": {
        "id": "kOBDkbG0r6Sx"
      },
      "execution_count": 201,
      "outputs": []
    },
    {
      "cell_type": "code",
      "source": [
        "df.shape"
      ],
      "metadata": {
        "colab": {
          "base_uri": "https://localhost:8080/"
        },
        "id": "hu8ODJTVs0HB",
        "outputId": "b226dd32-051b-42f4-c16f-a87dba4465d8"
      },
      "execution_count": 202,
      "outputs": [
        {
          "output_type": "execute_result",
          "data": {
            "text/plain": [
              "(15696, 76)"
            ]
          },
          "metadata": {},
          "execution_count": 202
        }
      ]
    },
    {
      "cell_type": "code",
      "source": [
        "df.info()"
      ],
      "metadata": {
        "colab": {
          "base_uri": "https://localhost:8080/"
        },
        "id": "5MHn-NwUsIkC",
        "outputId": "999fe616-a7e6-43b7-e72b-ed7c91d38aa0"
      },
      "execution_count": 203,
      "outputs": [
        {
          "output_type": "stream",
          "name": "stdout",
          "text": [
            "<class 'pandas.core.frame.DataFrame'>\n",
            "RangeIndex: 15696 entries, 0 to 15695\n",
            "Data columns (total 76 columns):\n",
            " #   Column                                Non-Null Count  Dtype  \n",
            "---  ------                                --------------  -----  \n",
            " 0   FFT_0                                 15696 non-null  float64\n",
            " 1   FFT_1                                 15696 non-null  float64\n",
            " 2   FFT_2                                 15696 non-null  float64\n",
            " 3   FFT_3                                 15696 non-null  float64\n",
            " 4   FFT_4                                 15696 non-null  float64\n",
            " 5   FFT_5                                 15696 non-null  float64\n",
            " 6   FFT_6                                 15696 non-null  float64\n",
            " 7   FFT_7                                 15696 non-null  float64\n",
            " 8   FFT_8                                 15696 non-null  float64\n",
            " 9   FFT_9                                 15696 non-null  float64\n",
            " 10  ARIMA_AR_0                            15696 non-null  float64\n",
            " 11  ARIMA_AR_1                            15696 non-null  float64\n",
            " 12  ARIMA_AR_2                            15696 non-null  float64\n",
            " 13  ARIMA_AR_3                            15696 non-null  float64\n",
            " 14  ARIMA_AR_4                            15696 non-null  float64\n",
            " 15  ARIMA_AR_5                            15696 non-null  float64\n",
            " 16  ARIMA_AR_6                            15696 non-null  float64\n",
            " 17  ARIMA_AR_7                            15696 non-null  float64\n",
            " 18  ARIMA_AR_8                            15696 non-null  float64\n",
            " 19  ARIMA_AR_9                            15696 non-null  float64\n",
            " 20  ARIMA_AR_0.1                          15696 non-null  float64\n",
            " 21  ARIMA_AR_1.1                          15696 non-null  float64\n",
            " 22  ARIMA_AR_2.1                          15696 non-null  float64\n",
            " 23  ARIMA_AR_3.1                          15696 non-null  float64\n",
            " 24  ARIMA_AR_4.1                          15696 non-null  float64\n",
            " 25  ARIMA_AR_5.1                          15696 non-null  float64\n",
            " 26  ARIMA_AR_6.1                          15696 non-null  float64\n",
            " 27  ARIMA_AR_7.1                          15696 non-null  float64\n",
            " 28  ARIMA_AR_8.1                          15696 non-null  float64\n",
            " 29  ARIMA_AR_9.1                          15696 non-null  float64\n",
            " 30  Minimum_Value                         15696 non-null  float64\n",
            " 31  Maximum_Value                         15696 non-null  float64\n",
            " 32  Mean                                  15696 non-null  float64\n",
            " 33  Standard_Deviation                    15696 non-null  float64\n",
            " 34  Variance                              15696 non-null  float64\n",
            " 35  Skewness                              15696 non-null  float64\n",
            " 36  Kurtosis                              15696 non-null  float64\n",
            " 37  Median                                15696 non-null  float64\n",
            " 38  Median_Absolute_Deviation             15696 non-null  float64\n",
            " 39  75th_Percentile                       15696 non-null  float64\n",
            " 40  25th_Percentile                       15696 non-null  float64\n",
            " 41  Interquartile_Range                   15696 non-null  float64\n",
            " 42  Standard_Error                        15696 non-null  float64\n",
            " 43  Root_Mean_Square                      15696 non-null  float64\n",
            " 44  Crest_Factor                          15696 non-null  float64\n",
            " 45  Shape_Factor                          15696 non-null  float64\n",
            " 46  Impulse_Factor                        15696 non-null  float64\n",
            " 47  Clearance_Factor                      15696 non-null  float64\n",
            " 48  Skewness_Factor                       15696 non-null  float64\n",
            " 49  Kurtosis_Factor                       15696 non-null  float64\n",
            " 50  Absolute_Mean                         15696 non-null  float64\n",
            " 51  Sum                                   15696 non-null  float64\n",
            " 52  Absolute_Sum                          15696 non-null  float64\n",
            " 53  Sum_of_Squares                        15696 non-null  float64\n",
            " 54  Sum_of_Cubes                          15696 non-null  float64\n",
            " 55  Sum_of_Fourth_Powers                  15696 non-null  float64\n",
            " 56  Root_Sum_of_Squares                   15696 non-null  float64\n",
            " 57  Range                                 15696 non-null  float64\n",
            " 58  Peak_to_Peak_Amplitude                15696 non-null  float64\n",
            " 59  Mean_Absolute_Change                  15696 non-null  float64\n",
            " 60  Mean_Square_of_First_Difference       15696 non-null  float64\n",
            " 61  Root_Mean_Square_of_First_Difference  15696 non-null  float64\n",
            " 62  Mean_Absolute_Deviation               15696 non-null  float64\n",
            " 63  Median_Absolute_Deviation_from_Mean   15696 non-null  float64\n",
            " 64  Shannon_Entropy                       15696 non-null  float64\n",
            " 65  Average_of_Trapezoidal_Integral       15696 non-null  float64\n",
            " 66  Energy                                15696 non-null  float64\n",
            " 67  Average_Magnitude                     15696 non-null  float64\n",
            " 68  Form_Factor                           15696 non-null  float64\n",
            " 69  Zero_Crossing_Rate                    15696 non-null  float64\n",
            " 70  10th_Percentile                       15696 non-null  float64\n",
            " 71  90th_Percentile                       15696 non-null  float64\n",
            " 72  80_Percent_Range                      15696 non-null  float64\n",
            " 73  Robust_Standard_Deviation             15696 non-null  float64\n",
            " 74  Turning_Point_Ratio                   15696 non-null  float64\n",
            " 75  key                                   15696 non-null  int64  \n",
            "dtypes: float64(75), int64(1)\n",
            "memory usage: 9.1 MB\n"
          ]
        }
      ]
    },
    {
      "cell_type": "code",
      "source": [
        "df.isnull().sum()"
      ],
      "metadata": {
        "colab": {
          "base_uri": "https://localhost:8080/",
          "height": 458
        },
        "id": "nS4qa8Qosioz",
        "outputId": "cec8e43c-6df5-4fba-b5fa-5911c1cc7199"
      },
      "execution_count": 204,
      "outputs": [
        {
          "output_type": "execute_result",
          "data": {
            "text/plain": [
              "FFT_0                        0\n",
              "FFT_1                        0\n",
              "FFT_2                        0\n",
              "FFT_3                        0\n",
              "FFT_4                        0\n",
              "                            ..\n",
              "90th_Percentile              0\n",
              "80_Percent_Range             0\n",
              "Robust_Standard_Deviation    0\n",
              "Turning_Point_Ratio          0\n",
              "key                          0\n",
              "Length: 76, dtype: int64"
            ],
            "text/html": [
              "<div>\n",
              "<style scoped>\n",
              "    .dataframe tbody tr th:only-of-type {\n",
              "        vertical-align: middle;\n",
              "    }\n",
              "\n",
              "    .dataframe tbody tr th {\n",
              "        vertical-align: top;\n",
              "    }\n",
              "\n",
              "    .dataframe thead th {\n",
              "        text-align: right;\n",
              "    }\n",
              "</style>\n",
              "<table border=\"1\" class=\"dataframe\">\n",
              "  <thead>\n",
              "    <tr style=\"text-align: right;\">\n",
              "      <th></th>\n",
              "      <th>0</th>\n",
              "    </tr>\n",
              "  </thead>\n",
              "  <tbody>\n",
              "    <tr>\n",
              "      <th>FFT_0</th>\n",
              "      <td>0</td>\n",
              "    </tr>\n",
              "    <tr>\n",
              "      <th>FFT_1</th>\n",
              "      <td>0</td>\n",
              "    </tr>\n",
              "    <tr>\n",
              "      <th>FFT_2</th>\n",
              "      <td>0</td>\n",
              "    </tr>\n",
              "    <tr>\n",
              "      <th>FFT_3</th>\n",
              "      <td>0</td>\n",
              "    </tr>\n",
              "    <tr>\n",
              "      <th>FFT_4</th>\n",
              "      <td>0</td>\n",
              "    </tr>\n",
              "    <tr>\n",
              "      <th>...</th>\n",
              "      <td>...</td>\n",
              "    </tr>\n",
              "    <tr>\n",
              "      <th>90th_Percentile</th>\n",
              "      <td>0</td>\n",
              "    </tr>\n",
              "    <tr>\n",
              "      <th>80_Percent_Range</th>\n",
              "      <td>0</td>\n",
              "    </tr>\n",
              "    <tr>\n",
              "      <th>Robust_Standard_Deviation</th>\n",
              "      <td>0</td>\n",
              "    </tr>\n",
              "    <tr>\n",
              "      <th>Turning_Point_Ratio</th>\n",
              "      <td>0</td>\n",
              "    </tr>\n",
              "    <tr>\n",
              "      <th>key</th>\n",
              "      <td>0</td>\n",
              "    </tr>\n",
              "  </tbody>\n",
              "</table>\n",
              "<p>76 rows × 1 columns</p>\n",
              "</div><br><label><b>dtype:</b> int64</label>"
            ]
          },
          "metadata": {},
          "execution_count": 204
        }
      ]
    },
    {
      "cell_type": "code",
      "source": [
        "column_mean = df.mean()"
      ],
      "metadata": {
        "id": "DExZpyuSsoPw"
      },
      "execution_count": 205,
      "outputs": []
    },
    {
      "cell_type": "code",
      "source": [
        "df = df.fillna(column_mean)"
      ],
      "metadata": {
        "id": "MLaGO40rtQRO"
      },
      "execution_count": 206,
      "outputs": []
    },
    {
      "cell_type": "code",
      "source": [
        "df.isnull().sum()"
      ],
      "metadata": {
        "colab": {
          "base_uri": "https://localhost:8080/",
          "height": 458
        },
        "id": "uI-KeacZtT-O",
        "outputId": "cfdd0554-c67f-4aab-d40e-bb50fc9e0ae7"
      },
      "execution_count": 207,
      "outputs": [
        {
          "output_type": "execute_result",
          "data": {
            "text/plain": [
              "FFT_0                        0\n",
              "FFT_1                        0\n",
              "FFT_2                        0\n",
              "FFT_3                        0\n",
              "FFT_4                        0\n",
              "                            ..\n",
              "90th_Percentile              0\n",
              "80_Percent_Range             0\n",
              "Robust_Standard_Deviation    0\n",
              "Turning_Point_Ratio          0\n",
              "key                          0\n",
              "Length: 76, dtype: int64"
            ],
            "text/html": [
              "<div>\n",
              "<style scoped>\n",
              "    .dataframe tbody tr th:only-of-type {\n",
              "        vertical-align: middle;\n",
              "    }\n",
              "\n",
              "    .dataframe tbody tr th {\n",
              "        vertical-align: top;\n",
              "    }\n",
              "\n",
              "    .dataframe thead th {\n",
              "        text-align: right;\n",
              "    }\n",
              "</style>\n",
              "<table border=\"1\" class=\"dataframe\">\n",
              "  <thead>\n",
              "    <tr style=\"text-align: right;\">\n",
              "      <th></th>\n",
              "      <th>0</th>\n",
              "    </tr>\n",
              "  </thead>\n",
              "  <tbody>\n",
              "    <tr>\n",
              "      <th>FFT_0</th>\n",
              "      <td>0</td>\n",
              "    </tr>\n",
              "    <tr>\n",
              "      <th>FFT_1</th>\n",
              "      <td>0</td>\n",
              "    </tr>\n",
              "    <tr>\n",
              "      <th>FFT_2</th>\n",
              "      <td>0</td>\n",
              "    </tr>\n",
              "    <tr>\n",
              "      <th>FFT_3</th>\n",
              "      <td>0</td>\n",
              "    </tr>\n",
              "    <tr>\n",
              "      <th>FFT_4</th>\n",
              "      <td>0</td>\n",
              "    </tr>\n",
              "    <tr>\n",
              "      <th>...</th>\n",
              "      <td>...</td>\n",
              "    </tr>\n",
              "    <tr>\n",
              "      <th>90th_Percentile</th>\n",
              "      <td>0</td>\n",
              "    </tr>\n",
              "    <tr>\n",
              "      <th>80_Percent_Range</th>\n",
              "      <td>0</td>\n",
              "    </tr>\n",
              "    <tr>\n",
              "      <th>Robust_Standard_Deviation</th>\n",
              "      <td>0</td>\n",
              "    </tr>\n",
              "    <tr>\n",
              "      <th>Turning_Point_Ratio</th>\n",
              "      <td>0</td>\n",
              "    </tr>\n",
              "    <tr>\n",
              "      <th>key</th>\n",
              "      <td>0</td>\n",
              "    </tr>\n",
              "  </tbody>\n",
              "</table>\n",
              "<p>76 rows × 1 columns</p>\n",
              "</div><br><label><b>dtype:</b> int64</label>"
            ]
          },
          "metadata": {},
          "execution_count": 207
        }
      ]
    },
    {
      "cell_type": "code",
      "source": [
        "df.shape"
      ],
      "metadata": {
        "colab": {
          "base_uri": "https://localhost:8080/"
        },
        "id": "PQJff6BMtbuC",
        "outputId": "84c09910-347d-4644-c709-15534f4033aa"
      },
      "execution_count": 208,
      "outputs": [
        {
          "output_type": "execute_result",
          "data": {
            "text/plain": [
              "(15696, 76)"
            ]
          },
          "metadata": {},
          "execution_count": 208
        }
      ]
    },
    {
      "cell_type": "code",
      "source": [
        "df.info()"
      ],
      "metadata": {
        "colab": {
          "base_uri": "https://localhost:8080/"
        },
        "id": "QLoA5VeytW8z",
        "outputId": "79f7ce6a-a9af-4913-997f-f9557ed8ac0b"
      },
      "execution_count": 209,
      "outputs": [
        {
          "output_type": "stream",
          "name": "stdout",
          "text": [
            "<class 'pandas.core.frame.DataFrame'>\n",
            "RangeIndex: 15696 entries, 0 to 15695\n",
            "Data columns (total 76 columns):\n",
            " #   Column                                Non-Null Count  Dtype  \n",
            "---  ------                                --------------  -----  \n",
            " 0   FFT_0                                 15696 non-null  float64\n",
            " 1   FFT_1                                 15696 non-null  float64\n",
            " 2   FFT_2                                 15696 non-null  float64\n",
            " 3   FFT_3                                 15696 non-null  float64\n",
            " 4   FFT_4                                 15696 non-null  float64\n",
            " 5   FFT_5                                 15696 non-null  float64\n",
            " 6   FFT_6                                 15696 non-null  float64\n",
            " 7   FFT_7                                 15696 non-null  float64\n",
            " 8   FFT_8                                 15696 non-null  float64\n",
            " 9   FFT_9                                 15696 non-null  float64\n",
            " 10  ARIMA_AR_0                            15696 non-null  float64\n",
            " 11  ARIMA_AR_1                            15696 non-null  float64\n",
            " 12  ARIMA_AR_2                            15696 non-null  float64\n",
            " 13  ARIMA_AR_3                            15696 non-null  float64\n",
            " 14  ARIMA_AR_4                            15696 non-null  float64\n",
            " 15  ARIMA_AR_5                            15696 non-null  float64\n",
            " 16  ARIMA_AR_6                            15696 non-null  float64\n",
            " 17  ARIMA_AR_7                            15696 non-null  float64\n",
            " 18  ARIMA_AR_8                            15696 non-null  float64\n",
            " 19  ARIMA_AR_9                            15696 non-null  float64\n",
            " 20  ARIMA_AR_0.1                          15696 non-null  float64\n",
            " 21  ARIMA_AR_1.1                          15696 non-null  float64\n",
            " 22  ARIMA_AR_2.1                          15696 non-null  float64\n",
            " 23  ARIMA_AR_3.1                          15696 non-null  float64\n",
            " 24  ARIMA_AR_4.1                          15696 non-null  float64\n",
            " 25  ARIMA_AR_5.1                          15696 non-null  float64\n",
            " 26  ARIMA_AR_6.1                          15696 non-null  float64\n",
            " 27  ARIMA_AR_7.1                          15696 non-null  float64\n",
            " 28  ARIMA_AR_8.1                          15696 non-null  float64\n",
            " 29  ARIMA_AR_9.1                          15696 non-null  float64\n",
            " 30  Minimum_Value                         15696 non-null  float64\n",
            " 31  Maximum_Value                         15696 non-null  float64\n",
            " 32  Mean                                  15696 non-null  float64\n",
            " 33  Standard_Deviation                    15696 non-null  float64\n",
            " 34  Variance                              15696 non-null  float64\n",
            " 35  Skewness                              15696 non-null  float64\n",
            " 36  Kurtosis                              15696 non-null  float64\n",
            " 37  Median                                15696 non-null  float64\n",
            " 38  Median_Absolute_Deviation             15696 non-null  float64\n",
            " 39  75th_Percentile                       15696 non-null  float64\n",
            " 40  25th_Percentile                       15696 non-null  float64\n",
            " 41  Interquartile_Range                   15696 non-null  float64\n",
            " 42  Standard_Error                        15696 non-null  float64\n",
            " 43  Root_Mean_Square                      15696 non-null  float64\n",
            " 44  Crest_Factor                          15696 non-null  float64\n",
            " 45  Shape_Factor                          15696 non-null  float64\n",
            " 46  Impulse_Factor                        15696 non-null  float64\n",
            " 47  Clearance_Factor                      15696 non-null  float64\n",
            " 48  Skewness_Factor                       15696 non-null  float64\n",
            " 49  Kurtosis_Factor                       15696 non-null  float64\n",
            " 50  Absolute_Mean                         15696 non-null  float64\n",
            " 51  Sum                                   15696 non-null  float64\n",
            " 52  Absolute_Sum                          15696 non-null  float64\n",
            " 53  Sum_of_Squares                        15696 non-null  float64\n",
            " 54  Sum_of_Cubes                          15696 non-null  float64\n",
            " 55  Sum_of_Fourth_Powers                  15696 non-null  float64\n",
            " 56  Root_Sum_of_Squares                   15696 non-null  float64\n",
            " 57  Range                                 15696 non-null  float64\n",
            " 58  Peak_to_Peak_Amplitude                15696 non-null  float64\n",
            " 59  Mean_Absolute_Change                  15696 non-null  float64\n",
            " 60  Mean_Square_of_First_Difference       15696 non-null  float64\n",
            " 61  Root_Mean_Square_of_First_Difference  15696 non-null  float64\n",
            " 62  Mean_Absolute_Deviation               15696 non-null  float64\n",
            " 63  Median_Absolute_Deviation_from_Mean   15696 non-null  float64\n",
            " 64  Shannon_Entropy                       15696 non-null  float64\n",
            " 65  Average_of_Trapezoidal_Integral       15696 non-null  float64\n",
            " 66  Energy                                15696 non-null  float64\n",
            " 67  Average_Magnitude                     15696 non-null  float64\n",
            " 68  Form_Factor                           15696 non-null  float64\n",
            " 69  Zero_Crossing_Rate                    15696 non-null  float64\n",
            " 70  10th_Percentile                       15696 non-null  float64\n",
            " 71  90th_Percentile                       15696 non-null  float64\n",
            " 72  80_Percent_Range                      15696 non-null  float64\n",
            " 73  Robust_Standard_Deviation             15696 non-null  float64\n",
            " 74  Turning_Point_Ratio                   15696 non-null  float64\n",
            " 75  key                                   15696 non-null  int64  \n",
            "dtypes: float64(75), int64(1)\n",
            "memory usage: 9.1 MB\n"
          ]
        }
      ]
    },
    {
      "cell_type": "markdown",
      "source": [
        "Note : If your data contains missing values represented by something other than NaN (like: strings) then :\n",
        "\n",
        "df = df.replace('', np.nan)  # Replace empty strings with NaN\n",
        "\n",
        "and then write code :\n",
        "\n",
        "df = df.fillna(column_mean)\n",
        "\n",
        "but we have all float value so no need to first convert the data in Nan"
      ],
      "metadata": {
        "id": "5PgcOB8Bto1U"
      }
    },
    {
      "cell_type": "code",
      "source": [
        "x = df.iloc[:,:-1].values\n",
        "y = df.iloc[:,-1].values"
      ],
      "metadata": {
        "id": "RCZdfhC1uN1H"
      },
      "execution_count": 210,
      "outputs": []
    },
    {
      "cell_type": "code",
      "source": [
        "from sklearn.model_selection import train_test_split"
      ],
      "metadata": {
        "id": "gDelf1XcuO1W"
      },
      "execution_count": 211,
      "outputs": []
    },
    {
      "cell_type": "code",
      "source": [
        "x_train, x_test, y_train, y_test = train_test_split(x,y , test_size=0.2 , random_state=0)"
      ],
      "metadata": {
        "id": "uPm-aWkKuQZx"
      },
      "execution_count": 212,
      "outputs": []
    },
    {
      "cell_type": "markdown",
      "source": [
        "### Standardized the dataset :\n"
      ],
      "metadata": {
        "id": "S7b3NSW2uWFf"
      }
    },
    {
      "cell_type": "code",
      "source": [
        "from sklearn.preprocessing import StandardScaler"
      ],
      "metadata": {
        "id": "UqRR1yoEuSlc"
      },
      "execution_count": 213,
      "outputs": []
    },
    {
      "cell_type": "code",
      "source": [
        "sc = StandardScaler()"
      ],
      "metadata": {
        "id": "LBtGB7GkuYA9"
      },
      "execution_count": 214,
      "outputs": []
    },
    {
      "cell_type": "code",
      "source": [
        "x_scaled = sc.fit_transform(x)\n",
        "x_scaled"
      ],
      "metadata": {
        "colab": {
          "base_uri": "https://localhost:8080/"
        },
        "id": "mvz2TS4JxevV",
        "outputId": "36466d1e-700c-4007-e125-06bdf8f4275f"
      },
      "execution_count": 215,
      "outputs": [
        {
          "output_type": "execute_result",
          "data": {
            "text/plain": [
              "array([[-0.19729206, -0.63543405, -0.23979303, ..., -0.83373801,\n",
              "        -0.87376832,  0.00798214],\n",
              "       [-0.7107087 , -0.14909086, -0.37604243, ..., -0.18472114,\n",
              "        -0.10594511,  0.00798214],\n",
              "       [-0.32182751, -0.32301924, -0.39305841, ..., -0.72971875,\n",
              "        -0.69058557,  0.00798214],\n",
              "       ...,\n",
              "       [ 0.99119592,  0.05063104, -0.03217094, ...,  0.32389377,\n",
              "         0.41041439,  0.00798214],\n",
              "       [-0.77181247,  0.97971924,  0.84551795, ...,  0.27538423,\n",
              "         0.16167715,  0.00798214],\n",
              "       [-1.18284086, -0.22038915, -0.20280372, ...,  0.32022169,\n",
              "         0.79713523,  0.00798214]])"
            ]
          },
          "metadata": {},
          "execution_count": 215
        }
      ]
    },
    {
      "cell_type": "code",
      "source": [
        "from sklearn.decomposition import PCA\n",
        "pca = PCA(.90)\n",
        "x_pca = pca.fit_transform(x_scaled)\n",
        "x_pca"
      ],
      "metadata": {
        "id": "31cqhJ4xuY-S",
        "colab": {
          "base_uri": "https://localhost:8080/"
        },
        "outputId": "66e54d9f-521b-414c-f770-aa46809bf688"
      },
      "execution_count": 216,
      "outputs": [
        {
          "output_type": "execute_result",
          "data": {
            "text/plain": [
              "array([[-4.05438721e+00, -1.52660198e+00, -1.21391720e+00, ...,\n",
              "        -4.38715940e-02,  1.68987742e-01,  4.72958814e-04],\n",
              "       [-7.50611435e-01, -2.17148640e+00, -1.61579372e+00, ...,\n",
              "        -7.36842107e-01, -1.10551916e-01,  5.80735258e-02],\n",
              "       [-3.37692426e+00, -1.81961604e+00, -1.76099043e+00, ...,\n",
              "        -5.38254430e-01,  5.72546366e-01,  3.20337370e-01],\n",
              "       ...,\n",
              "       [ 1.69610295e+00,  3.07264807e+00,  7.95958858e-02, ...,\n",
              "        -1.94823729e-01, -4.97895460e-01, -1.18740464e-01],\n",
              "       [ 2.12225755e+00, -3.54755186e+00, -2.48572452e-01, ...,\n",
              "        -6.69942604e-01,  4.43820544e-01,  2.71602980e-01],\n",
              "       [ 1.81905786e+00, -3.14349441e+00, -2.32189359e+00, ...,\n",
              "        -2.09627765e+00, -2.41122357e+00, -6.52625390e-01]])"
            ]
          },
          "metadata": {},
          "execution_count": 216
        }
      ]
    },
    {
      "cell_type": "code",
      "source": [
        "pca.explained_variance_ratio_  # these are principle componenets"
      ],
      "metadata": {
        "id": "WnmH4nutuZ96",
        "colab": {
          "base_uri": "https://localhost:8080/"
        },
        "outputId": "2fd2d6f6-e1ff-43e8-bf49-92c9d97ed6b1"
      },
      "execution_count": 217,
      "outputs": [
        {
          "output_type": "execute_result",
          "data": {
            "text/plain": [
              "array([0.39717593, 0.19859684, 0.06482272, 0.04358959, 0.0277796 ,\n",
              "       0.02486587, 0.02186226, 0.01914535, 0.01902454, 0.01701679,\n",
              "       0.0165953 , 0.0148427 , 0.01407624, 0.01368908, 0.01326636])"
            ]
          },
          "metadata": {},
          "execution_count": 217
        }
      ]
    },
    {
      "cell_type": "code",
      "source": [
        "from sklearn.model_selection import train_test_split   #Splitting the dataset into the training set and test set\n",
        "x_train, x_test, y_train, y_test = train_test_split(x_scaled, y, test_size = 0.3, random_state = True)"
      ],
      "metadata": {
        "id": "xQJU8W5Pua6P"
      },
      "execution_count": 218,
      "outputs": []
    },
    {
      "cell_type": "markdown",
      "source": [
        "### Training Regression Tree :"
      ],
      "metadata": {
        "id": "fB5R1qQjui90"
      }
    },
    {
      "cell_type": "code",
      "source": [
        "from sklearn.svm import SVC"
      ],
      "metadata": {
        "id": "YAXGERdpuefO"
      },
      "execution_count": 219,
      "outputs": []
    },
    {
      "cell_type": "code",
      "source": [
        "svc = SVC(kernel = \"rbf\", C=0.01) # C = 1000 means penalty"
      ],
      "metadata": {
        "id": "0AarelcLukXO"
      },
      "execution_count": 220,
      "outputs": []
    },
    {
      "cell_type": "code",
      "source": [
        "svc.fit(x_train , y_train)"
      ],
      "metadata": {
        "colab": {
          "base_uri": "https://localhost:8080/",
          "height": 80
        },
        "id": "_mG4tJR3vQaa",
        "outputId": "c9cf3dfc-0b1e-49b6-a188-3e149c417f76"
      },
      "execution_count": 221,
      "outputs": [
        {
          "output_type": "execute_result",
          "data": {
            "text/plain": [
              "SVC(C=0.01)"
            ],
            "text/html": [
              "<style>#sk-container-id-11 {\n",
              "  /* Definition of color scheme common for light and dark mode */\n",
              "  --sklearn-color-text: #000;\n",
              "  --sklearn-color-text-muted: #666;\n",
              "  --sklearn-color-line: gray;\n",
              "  /* Definition of color scheme for unfitted estimators */\n",
              "  --sklearn-color-unfitted-level-0: #fff5e6;\n",
              "  --sklearn-color-unfitted-level-1: #f6e4d2;\n",
              "  --sklearn-color-unfitted-level-2: #ffe0b3;\n",
              "  --sklearn-color-unfitted-level-3: chocolate;\n",
              "  /* Definition of color scheme for fitted estimators */\n",
              "  --sklearn-color-fitted-level-0: #f0f8ff;\n",
              "  --sklearn-color-fitted-level-1: #d4ebff;\n",
              "  --sklearn-color-fitted-level-2: #b3dbfd;\n",
              "  --sklearn-color-fitted-level-3: cornflowerblue;\n",
              "\n",
              "  /* Specific color for light theme */\n",
              "  --sklearn-color-text-on-default-background: var(--sg-text-color, var(--theme-code-foreground, var(--jp-content-font-color1, black)));\n",
              "  --sklearn-color-background: var(--sg-background-color, var(--theme-background, var(--jp-layout-color0, white)));\n",
              "  --sklearn-color-border-box: var(--sg-text-color, var(--theme-code-foreground, var(--jp-content-font-color1, black)));\n",
              "  --sklearn-color-icon: #696969;\n",
              "\n",
              "  @media (prefers-color-scheme: dark) {\n",
              "    /* Redefinition of color scheme for dark theme */\n",
              "    --sklearn-color-text-on-default-background: var(--sg-text-color, var(--theme-code-foreground, var(--jp-content-font-color1, white)));\n",
              "    --sklearn-color-background: var(--sg-background-color, var(--theme-background, var(--jp-layout-color0, #111)));\n",
              "    --sklearn-color-border-box: var(--sg-text-color, var(--theme-code-foreground, var(--jp-content-font-color1, white)));\n",
              "    --sklearn-color-icon: #878787;\n",
              "  }\n",
              "}\n",
              "\n",
              "#sk-container-id-11 {\n",
              "  color: var(--sklearn-color-text);\n",
              "}\n",
              "\n",
              "#sk-container-id-11 pre {\n",
              "  padding: 0;\n",
              "}\n",
              "\n",
              "#sk-container-id-11 input.sk-hidden--visually {\n",
              "  border: 0;\n",
              "  clip: rect(1px 1px 1px 1px);\n",
              "  clip: rect(1px, 1px, 1px, 1px);\n",
              "  height: 1px;\n",
              "  margin: -1px;\n",
              "  overflow: hidden;\n",
              "  padding: 0;\n",
              "  position: absolute;\n",
              "  width: 1px;\n",
              "}\n",
              "\n",
              "#sk-container-id-11 div.sk-dashed-wrapped {\n",
              "  border: 1px dashed var(--sklearn-color-line);\n",
              "  margin: 0 0.4em 0.5em 0.4em;\n",
              "  box-sizing: border-box;\n",
              "  padding-bottom: 0.4em;\n",
              "  background-color: var(--sklearn-color-background);\n",
              "}\n",
              "\n",
              "#sk-container-id-11 div.sk-container {\n",
              "  /* jupyter's `normalize.less` sets `[hidden] { display: none; }`\n",
              "     but bootstrap.min.css set `[hidden] { display: none !important; }`\n",
              "     so we also need the `!important` here to be able to override the\n",
              "     default hidden behavior on the sphinx rendered scikit-learn.org.\n",
              "     See: https://github.com/scikit-learn/scikit-learn/issues/21755 */\n",
              "  display: inline-block !important;\n",
              "  position: relative;\n",
              "}\n",
              "\n",
              "#sk-container-id-11 div.sk-text-repr-fallback {\n",
              "  display: none;\n",
              "}\n",
              "\n",
              "div.sk-parallel-item,\n",
              "div.sk-serial,\n",
              "div.sk-item {\n",
              "  /* draw centered vertical line to link estimators */\n",
              "  background-image: linear-gradient(var(--sklearn-color-text-on-default-background), var(--sklearn-color-text-on-default-background));\n",
              "  background-size: 2px 100%;\n",
              "  background-repeat: no-repeat;\n",
              "  background-position: center center;\n",
              "}\n",
              "\n",
              "/* Parallel-specific style estimator block */\n",
              "\n",
              "#sk-container-id-11 div.sk-parallel-item::after {\n",
              "  content: \"\";\n",
              "  width: 100%;\n",
              "  border-bottom: 2px solid var(--sklearn-color-text-on-default-background);\n",
              "  flex-grow: 1;\n",
              "}\n",
              "\n",
              "#sk-container-id-11 div.sk-parallel {\n",
              "  display: flex;\n",
              "  align-items: stretch;\n",
              "  justify-content: center;\n",
              "  background-color: var(--sklearn-color-background);\n",
              "  position: relative;\n",
              "}\n",
              "\n",
              "#sk-container-id-11 div.sk-parallel-item {\n",
              "  display: flex;\n",
              "  flex-direction: column;\n",
              "}\n",
              "\n",
              "#sk-container-id-11 div.sk-parallel-item:first-child::after {\n",
              "  align-self: flex-end;\n",
              "  width: 50%;\n",
              "}\n",
              "\n",
              "#sk-container-id-11 div.sk-parallel-item:last-child::after {\n",
              "  align-self: flex-start;\n",
              "  width: 50%;\n",
              "}\n",
              "\n",
              "#sk-container-id-11 div.sk-parallel-item:only-child::after {\n",
              "  width: 0;\n",
              "}\n",
              "\n",
              "/* Serial-specific style estimator block */\n",
              "\n",
              "#sk-container-id-11 div.sk-serial {\n",
              "  display: flex;\n",
              "  flex-direction: column;\n",
              "  align-items: center;\n",
              "  background-color: var(--sklearn-color-background);\n",
              "  padding-right: 1em;\n",
              "  padding-left: 1em;\n",
              "}\n",
              "\n",
              "\n",
              "/* Toggleable style: style used for estimator/Pipeline/ColumnTransformer box that is\n",
              "clickable and can be expanded/collapsed.\n",
              "- Pipeline and ColumnTransformer use this feature and define the default style\n",
              "- Estimators will overwrite some part of the style using the `sk-estimator` class\n",
              "*/\n",
              "\n",
              "/* Pipeline and ColumnTransformer style (default) */\n",
              "\n",
              "#sk-container-id-11 div.sk-toggleable {\n",
              "  /* Default theme specific background. It is overwritten whether we have a\n",
              "  specific estimator or a Pipeline/ColumnTransformer */\n",
              "  background-color: var(--sklearn-color-background);\n",
              "}\n",
              "\n",
              "/* Toggleable label */\n",
              "#sk-container-id-11 label.sk-toggleable__label {\n",
              "  cursor: pointer;\n",
              "  display: flex;\n",
              "  width: 100%;\n",
              "  margin-bottom: 0;\n",
              "  padding: 0.5em;\n",
              "  box-sizing: border-box;\n",
              "  text-align: center;\n",
              "  align-items: start;\n",
              "  justify-content: space-between;\n",
              "  gap: 0.5em;\n",
              "}\n",
              "\n",
              "#sk-container-id-11 label.sk-toggleable__label .caption {\n",
              "  font-size: 0.6rem;\n",
              "  font-weight: lighter;\n",
              "  color: var(--sklearn-color-text-muted);\n",
              "}\n",
              "\n",
              "#sk-container-id-11 label.sk-toggleable__label-arrow:before {\n",
              "  /* Arrow on the left of the label */\n",
              "  content: \"▸\";\n",
              "  float: left;\n",
              "  margin-right: 0.25em;\n",
              "  color: var(--sklearn-color-icon);\n",
              "}\n",
              "\n",
              "#sk-container-id-11 label.sk-toggleable__label-arrow:hover:before {\n",
              "  color: var(--sklearn-color-text);\n",
              "}\n",
              "\n",
              "/* Toggleable content - dropdown */\n",
              "\n",
              "#sk-container-id-11 div.sk-toggleable__content {\n",
              "  max-height: 0;\n",
              "  max-width: 0;\n",
              "  overflow: hidden;\n",
              "  text-align: left;\n",
              "  /* unfitted */\n",
              "  background-color: var(--sklearn-color-unfitted-level-0);\n",
              "}\n",
              "\n",
              "#sk-container-id-11 div.sk-toggleable__content.fitted {\n",
              "  /* fitted */\n",
              "  background-color: var(--sklearn-color-fitted-level-0);\n",
              "}\n",
              "\n",
              "#sk-container-id-11 div.sk-toggleable__content pre {\n",
              "  margin: 0.2em;\n",
              "  border-radius: 0.25em;\n",
              "  color: var(--sklearn-color-text);\n",
              "  /* unfitted */\n",
              "  background-color: var(--sklearn-color-unfitted-level-0);\n",
              "}\n",
              "\n",
              "#sk-container-id-11 div.sk-toggleable__content.fitted pre {\n",
              "  /* unfitted */\n",
              "  background-color: var(--sklearn-color-fitted-level-0);\n",
              "}\n",
              "\n",
              "#sk-container-id-11 input.sk-toggleable__control:checked~div.sk-toggleable__content {\n",
              "  /* Expand drop-down */\n",
              "  max-height: 200px;\n",
              "  max-width: 100%;\n",
              "  overflow: auto;\n",
              "}\n",
              "\n",
              "#sk-container-id-11 input.sk-toggleable__control:checked~label.sk-toggleable__label-arrow:before {\n",
              "  content: \"▾\";\n",
              "}\n",
              "\n",
              "/* Pipeline/ColumnTransformer-specific style */\n",
              "\n",
              "#sk-container-id-11 div.sk-label input.sk-toggleable__control:checked~label.sk-toggleable__label {\n",
              "  color: var(--sklearn-color-text);\n",
              "  background-color: var(--sklearn-color-unfitted-level-2);\n",
              "}\n",
              "\n",
              "#sk-container-id-11 div.sk-label.fitted input.sk-toggleable__control:checked~label.sk-toggleable__label {\n",
              "  background-color: var(--sklearn-color-fitted-level-2);\n",
              "}\n",
              "\n",
              "/* Estimator-specific style */\n",
              "\n",
              "/* Colorize estimator box */\n",
              "#sk-container-id-11 div.sk-estimator input.sk-toggleable__control:checked~label.sk-toggleable__label {\n",
              "  /* unfitted */\n",
              "  background-color: var(--sklearn-color-unfitted-level-2);\n",
              "}\n",
              "\n",
              "#sk-container-id-11 div.sk-estimator.fitted input.sk-toggleable__control:checked~label.sk-toggleable__label {\n",
              "  /* fitted */\n",
              "  background-color: var(--sklearn-color-fitted-level-2);\n",
              "}\n",
              "\n",
              "#sk-container-id-11 div.sk-label label.sk-toggleable__label,\n",
              "#sk-container-id-11 div.sk-label label {\n",
              "  /* The background is the default theme color */\n",
              "  color: var(--sklearn-color-text-on-default-background);\n",
              "}\n",
              "\n",
              "/* On hover, darken the color of the background */\n",
              "#sk-container-id-11 div.sk-label:hover label.sk-toggleable__label {\n",
              "  color: var(--sklearn-color-text);\n",
              "  background-color: var(--sklearn-color-unfitted-level-2);\n",
              "}\n",
              "\n",
              "/* Label box, darken color on hover, fitted */\n",
              "#sk-container-id-11 div.sk-label.fitted:hover label.sk-toggleable__label.fitted {\n",
              "  color: var(--sklearn-color-text);\n",
              "  background-color: var(--sklearn-color-fitted-level-2);\n",
              "}\n",
              "\n",
              "/* Estimator label */\n",
              "\n",
              "#sk-container-id-11 div.sk-label label {\n",
              "  font-family: monospace;\n",
              "  font-weight: bold;\n",
              "  display: inline-block;\n",
              "  line-height: 1.2em;\n",
              "}\n",
              "\n",
              "#sk-container-id-11 div.sk-label-container {\n",
              "  text-align: center;\n",
              "}\n",
              "\n",
              "/* Estimator-specific */\n",
              "#sk-container-id-11 div.sk-estimator {\n",
              "  font-family: monospace;\n",
              "  border: 1px dotted var(--sklearn-color-border-box);\n",
              "  border-radius: 0.25em;\n",
              "  box-sizing: border-box;\n",
              "  margin-bottom: 0.5em;\n",
              "  /* unfitted */\n",
              "  background-color: var(--sklearn-color-unfitted-level-0);\n",
              "}\n",
              "\n",
              "#sk-container-id-11 div.sk-estimator.fitted {\n",
              "  /* fitted */\n",
              "  background-color: var(--sklearn-color-fitted-level-0);\n",
              "}\n",
              "\n",
              "/* on hover */\n",
              "#sk-container-id-11 div.sk-estimator:hover {\n",
              "  /* unfitted */\n",
              "  background-color: var(--sklearn-color-unfitted-level-2);\n",
              "}\n",
              "\n",
              "#sk-container-id-11 div.sk-estimator.fitted:hover {\n",
              "  /* fitted */\n",
              "  background-color: var(--sklearn-color-fitted-level-2);\n",
              "}\n",
              "\n",
              "/* Specification for estimator info (e.g. \"i\" and \"?\") */\n",
              "\n",
              "/* Common style for \"i\" and \"?\" */\n",
              "\n",
              ".sk-estimator-doc-link,\n",
              "a:link.sk-estimator-doc-link,\n",
              "a:visited.sk-estimator-doc-link {\n",
              "  float: right;\n",
              "  font-size: smaller;\n",
              "  line-height: 1em;\n",
              "  font-family: monospace;\n",
              "  background-color: var(--sklearn-color-background);\n",
              "  border-radius: 1em;\n",
              "  height: 1em;\n",
              "  width: 1em;\n",
              "  text-decoration: none !important;\n",
              "  margin-left: 0.5em;\n",
              "  text-align: center;\n",
              "  /* unfitted */\n",
              "  border: var(--sklearn-color-unfitted-level-1) 1pt solid;\n",
              "  color: var(--sklearn-color-unfitted-level-1);\n",
              "}\n",
              "\n",
              ".sk-estimator-doc-link.fitted,\n",
              "a:link.sk-estimator-doc-link.fitted,\n",
              "a:visited.sk-estimator-doc-link.fitted {\n",
              "  /* fitted */\n",
              "  border: var(--sklearn-color-fitted-level-1) 1pt solid;\n",
              "  color: var(--sklearn-color-fitted-level-1);\n",
              "}\n",
              "\n",
              "/* On hover */\n",
              "div.sk-estimator:hover .sk-estimator-doc-link:hover,\n",
              ".sk-estimator-doc-link:hover,\n",
              "div.sk-label-container:hover .sk-estimator-doc-link:hover,\n",
              ".sk-estimator-doc-link:hover {\n",
              "  /* unfitted */\n",
              "  background-color: var(--sklearn-color-unfitted-level-3);\n",
              "  color: var(--sklearn-color-background);\n",
              "  text-decoration: none;\n",
              "}\n",
              "\n",
              "div.sk-estimator.fitted:hover .sk-estimator-doc-link.fitted:hover,\n",
              ".sk-estimator-doc-link.fitted:hover,\n",
              "div.sk-label-container:hover .sk-estimator-doc-link.fitted:hover,\n",
              ".sk-estimator-doc-link.fitted:hover {\n",
              "  /* fitted */\n",
              "  background-color: var(--sklearn-color-fitted-level-3);\n",
              "  color: var(--sklearn-color-background);\n",
              "  text-decoration: none;\n",
              "}\n",
              "\n",
              "/* Span, style for the box shown on hovering the info icon */\n",
              ".sk-estimator-doc-link span {\n",
              "  display: none;\n",
              "  z-index: 9999;\n",
              "  position: relative;\n",
              "  font-weight: normal;\n",
              "  right: .2ex;\n",
              "  padding: .5ex;\n",
              "  margin: .5ex;\n",
              "  width: min-content;\n",
              "  min-width: 20ex;\n",
              "  max-width: 50ex;\n",
              "  color: var(--sklearn-color-text);\n",
              "  box-shadow: 2pt 2pt 4pt #999;\n",
              "  /* unfitted */\n",
              "  background: var(--sklearn-color-unfitted-level-0);\n",
              "  border: .5pt solid var(--sklearn-color-unfitted-level-3);\n",
              "}\n",
              "\n",
              ".sk-estimator-doc-link.fitted span {\n",
              "  /* fitted */\n",
              "  background: var(--sklearn-color-fitted-level-0);\n",
              "  border: var(--sklearn-color-fitted-level-3);\n",
              "}\n",
              "\n",
              ".sk-estimator-doc-link:hover span {\n",
              "  display: block;\n",
              "}\n",
              "\n",
              "/* \"?\"-specific style due to the `<a>` HTML tag */\n",
              "\n",
              "#sk-container-id-11 a.estimator_doc_link {\n",
              "  float: right;\n",
              "  font-size: 1rem;\n",
              "  line-height: 1em;\n",
              "  font-family: monospace;\n",
              "  background-color: var(--sklearn-color-background);\n",
              "  border-radius: 1rem;\n",
              "  height: 1rem;\n",
              "  width: 1rem;\n",
              "  text-decoration: none;\n",
              "  /* unfitted */\n",
              "  color: var(--sklearn-color-unfitted-level-1);\n",
              "  border: var(--sklearn-color-unfitted-level-1) 1pt solid;\n",
              "}\n",
              "\n",
              "#sk-container-id-11 a.estimator_doc_link.fitted {\n",
              "  /* fitted */\n",
              "  border: var(--sklearn-color-fitted-level-1) 1pt solid;\n",
              "  color: var(--sklearn-color-fitted-level-1);\n",
              "}\n",
              "\n",
              "/* On hover */\n",
              "#sk-container-id-11 a.estimator_doc_link:hover {\n",
              "  /* unfitted */\n",
              "  background-color: var(--sklearn-color-unfitted-level-3);\n",
              "  color: var(--sklearn-color-background);\n",
              "  text-decoration: none;\n",
              "}\n",
              "\n",
              "#sk-container-id-11 a.estimator_doc_link.fitted:hover {\n",
              "  /* fitted */\n",
              "  background-color: var(--sklearn-color-fitted-level-3);\n",
              "}\n",
              "</style><div id=\"sk-container-id-11\" class=\"sk-top-container\"><div class=\"sk-text-repr-fallback\"><pre>SVC(C=0.01)</pre><b>In a Jupyter environment, please rerun this cell to show the HTML representation or trust the notebook. <br />On GitHub, the HTML representation is unable to render, please try loading this page with nbviewer.org.</b></div><div class=\"sk-container\" hidden><div class=\"sk-item\"><div class=\"sk-estimator fitted sk-toggleable\"><input class=\"sk-toggleable__control sk-hidden--visually\" id=\"sk-estimator-id-11\" type=\"checkbox\" checked><label for=\"sk-estimator-id-11\" class=\"sk-toggleable__label fitted sk-toggleable__label-arrow\"><div><div>SVC</div></div><div><a class=\"sk-estimator-doc-link fitted\" rel=\"noreferrer\" target=\"_blank\" href=\"https://scikit-learn.org/1.6/modules/generated/sklearn.svm.SVC.html\">?<span>Documentation for SVC</span></a><span class=\"sk-estimator-doc-link fitted\">i<span>Fitted</span></span></div></label><div class=\"sk-toggleable__content fitted\"><pre>SVC(C=0.01)</pre></div> </div></div></div></div>"
            ]
          },
          "metadata": {},
          "execution_count": 221
        }
      ]
    },
    {
      "cell_type": "code",
      "source": [
        "y_train_pred = svc.predict(x_train)\n",
        "y_test_pred = svc.predict(x_test)"
      ],
      "metadata": {
        "id": "8p6hc630uuHU"
      },
      "execution_count": 222,
      "outputs": []
    },
    {
      "cell_type": "code",
      "source": [
        "y_train_pred"
      ],
      "metadata": {
        "colab": {
          "base_uri": "https://localhost:8080/"
        },
        "id": "swTQJBRp2K5o",
        "outputId": "8c893de8-90b6-46ac-dc12-9e3fc0e50d90"
      },
      "execution_count": 223,
      "outputs": [
        {
          "output_type": "execute_result",
          "data": {
            "text/plain": [
              "array([2, 5, 2, ..., 5, 1, 6])"
            ]
          },
          "metadata": {},
          "execution_count": 223
        }
      ]
    },
    {
      "cell_type": "code",
      "source": [
        "y_test_pred"
      ],
      "metadata": {
        "colab": {
          "base_uri": "https://localhost:8080/"
        },
        "id": "D9KdLVB5u3Ea",
        "outputId": "62cc6a76-dd6b-4e96-d225-ea9606416c48"
      },
      "execution_count": 224,
      "outputs": [
        {
          "output_type": "execute_result",
          "data": {
            "text/plain": [
              "array([5, 3, 1, ..., 2, 1, 3])"
            ]
          },
          "metadata": {},
          "execution_count": 224
        }
      ]
    },
    {
      "cell_type": "markdown",
      "source": [
        "### Model Performance :"
      ],
      "metadata": {
        "id": "qMQuDFq6u8mi"
      }
    },
    {
      "cell_type": "code",
      "source": [
        "from sklearn.metrics import mean_squared_error, r2_score, accuracy_score, confusion_matrix\n",
        "# mse means mean of square of difference bet. predicted and actual values"
      ],
      "metadata": {
        "id": "uiXBCmA0u9Hl"
      },
      "execution_count": 225,
      "outputs": []
    },
    {
      "cell_type": "code",
      "source": [
        "mean_squared_error(y_test, y_test_pred)"
      ],
      "metadata": {
        "colab": {
          "base_uri": "https://localhost:8080/"
        },
        "id": "FFCLBtfWu_KX",
        "outputId": "112a27a2-4b62-47b5-8903-8ec9df564671"
      },
      "execution_count": 226,
      "outputs": [
        {
          "output_type": "execute_result",
          "data": {
            "text/plain": [
              "0.3497557867912508"
            ]
          },
          "metadata": {},
          "execution_count": 226
        }
      ]
    },
    {
      "cell_type": "code",
      "source": [
        "r2_score(y_train, y_train_pred)"
      ],
      "metadata": {
        "colab": {
          "base_uri": "https://localhost:8080/"
        },
        "id": "uI6-DeMSvDRJ",
        "outputId": "2c951bd5-416b-4d89-b384-5e278e6205e0"
      },
      "execution_count": 227,
      "outputs": [
        {
          "output_type": "execute_result",
          "data": {
            "text/plain": [
              "0.869900062255424"
            ]
          },
          "metadata": {},
          "execution_count": 227
        }
      ]
    },
    {
      "cell_type": "code",
      "source": [
        "r2_score(y_test, y_test_pred)"
      ],
      "metadata": {
        "colab": {
          "base_uri": "https://localhost:8080/"
        },
        "id": "-SjCqhpsyMnV",
        "outputId": "c23ed3bf-d1aa-41d8-cf07-dae39def1258"
      },
      "execution_count": 228,
      "outputs": [
        {
          "output_type": "execute_result",
          "data": {
            "text/plain": [
              "0.8801806123947232"
            ]
          },
          "metadata": {},
          "execution_count": 228
        }
      ]
    },
    {
      "cell_type": "code",
      "source": [
        "accuracy = accuracy_score(y_train, y_train_pred)\n",
        "print(f\"Accuracy: {accuracy}\")"
      ],
      "metadata": {
        "colab": {
          "base_uri": "https://localhost:8080/"
        },
        "id": "u31RjaTZyYWa",
        "outputId": "7b44bf35-9d97-42b2-eb91-4eb4bed321dd"
      },
      "execution_count": 229,
      "outputs": [
        {
          "output_type": "stream",
          "name": "stdout",
          "text": [
            "Accuracy: 0.7679985437335032\n"
          ]
        }
      ]
    },
    {
      "cell_type": "code",
      "source": [
        "accuracy = accuracy_score(y_test, y_test_pred)\n",
        "print(f\"Accuracy: {accuracy}\")"
      ],
      "metadata": {
        "colab": {
          "base_uri": "https://localhost:8080/"
        },
        "id": "-IZ674UDvugD",
        "outputId": "1a975463-3a6f-4e83-95bb-ff8640750593"
      },
      "execution_count": 230,
      "outputs": [
        {
          "output_type": "stream",
          "name": "stdout",
          "text": [
            "Accuracy: 0.7831811424930983\n"
          ]
        }
      ]
    },
    {
      "cell_type": "code",
      "source": [
        "cm_train = confusion_matrix(y_train, y_train_pred)\n",
        "cm_train"
      ],
      "metadata": {
        "colab": {
          "base_uri": "https://localhost:8080/"
        },
        "id": "iJNX2RC7yrmI",
        "outputId": "c6b69bfb-b040-4ac3-d521-ed47a8f4c66f"
      },
      "execution_count": 231,
      "outputs": [
        {
          "output_type": "execute_result",
          "data": {
            "text/plain": [
              "array([[1243,  422,  123,    2,   10,    3],\n",
              "       [ 200, 1543,   69,    0,   14,    0],\n",
              "       [  72,   22, 1715,   32,    7,    0],\n",
              "       [   5,   26,  299, 1170,  315,   12],\n",
              "       [   0,    1,    9,  416, 1311,   84],\n",
              "       [   5,    1,    1,  110,  289, 1456]])"
            ]
          },
          "metadata": {},
          "execution_count": 231
        }
      ]
    },
    {
      "cell_type": "code",
      "source": [
        "cm_test = confusion_matrix(y_test, y_test_pred)\n",
        "\n",
        "plt.figure(figsize=(8, 6))\n",
        "sns.heatmap(cm_test, annot=True, fmt=\"d\", cmap=\"Blues\",\n",
        "            xticklabels=np.unique(y), yticklabels=np.unique(y))\n",
        "plt.xlabel(\"Predicted\")\n",
        "plt.ylabel(\"Actual\")\n",
        "plt.title(\"Confusion Matrix\")\n",
        "plt.show()"
      ],
      "metadata": {
        "colab": {
          "base_uri": "https://localhost:8080/",
          "height": 564
        },
        "id": "kMV0r_e3yl6C",
        "outputId": "413e7e2c-ac10-4caf-d6ae-1d3e338ad334"
      },
      "execution_count": 232,
      "outputs": [
        {
          "output_type": "display_data",
          "data": {
            "text/plain": [
              "<Figure size 800x600 with 2 Axes>"
            ],
            "image/png": "[encoded data removed]"
          },
          "metadata": {}
        }
      ]
    },
    {
      "cell_type": "code",
      "source": [],
      "metadata": {
        "id": "gkEDotiTzACW"
      },
      "execution_count": 232,
      "outputs": []
    },
    {
      "cell_type": "markdown",
      "source": [
        "## increase the accuracy :"
      ],
      "metadata": {
        "id": "Ryh2N-K87EHF"
      }
    },
    {
      "cell_type": "code",
      "source": [
        "from sklearn.model_selection import GridSearchCV\n",
        "\n",
        "   # Define the parameter grid\n",
        "param_grid = {'kernel': ['rbf'],\n",
        "              'C': [0.1, 1, 10, 50, 100,500]  # Experiment with different values\n",
        "              }\n",
        "\n",
        "# Create GridSearchCV object\n",
        "grid_search = GridSearchCV(SVC(), param_grid, cv=3, scoring='accuracy' , n_jobs=-1)\n",
        "\n",
        "# Fit to the training data\n",
        "grid_search.fit(x_train, y_train)\n",
        "\n",
        "# Get the best kernel and hyperparameters\n",
        "print(f\"Best C: {grid_search.best_params_['C']}\")\n",
        "\n",
        "# Train the final model with the best parameters\n",
        "best_svc = SVC(**grid_search.best_params_)"
      ],
      "metadata": {
        "colab": {
          "base_uri": "https://localhost:8080/"
        },
        "id": "7CS4OhcX5_kD",
        "outputId": "34290fca-7942-4104-f0b8-230b3d54c267"
      },
      "execution_count": 241,
      "outputs": [
        {
          "output_type": "stream",
          "name": "stdout",
          "text": [
            "Best C: 10\n"
          ]
        }
      ]
    },
    {
      "cell_type": "code",
      "source": [
        "import matplotlib.pyplot as plt\n",
        "from sklearn.model_selection import GridSearchCV\n",
        "\n",
        "    # Store accuracy scores for each C value\n",
        "accuracy_scores = grid_search.cv_results_['mean_test_score']\n",
        "\n",
        "# Plot the results\n",
        "plt.plot(param_grid['C'], accuracy_scores)\n",
        "plt.xlabel('C Value')\n",
        "plt.ylabel('Accuracy')\n",
        "plt.title('Accuracy vs. C Value')\n",
        "plt.show()"
      ],
      "metadata": {
        "colab": {
          "base_uri": "https://localhost:8080/",
          "height": 472
        },
        "id": "r-dXfgjb0HO1",
        "outputId": "c42813f3-6681-4c21-f89d-f9ecd6fedcfb"
      },
      "execution_count": 242,
      "outputs": [
        {
          "output_type": "display_data",
          "data": {
            "text/plain": [
              "<Figure size 640x480 with 1 Axes>"
            ],
            "image/png": "[encoded data removed]"
          },
          "metadata": {}
        }
      ]
    },
    {
      "cell_type": "code",
      "source": [
        "svc = SVC(kernel = \"rbf\", C=10) # C = 1000 means penalty"
      ],
      "metadata": {
        "id": "MUk9sk7w3QN3"
      },
      "execution_count": 243,
      "outputs": []
    },
    {
      "cell_type": "code",
      "source": [
        "svc.fit(x_train , y_train)"
      ],
      "metadata": {
        "colab": {
          "base_uri": "https://localhost:8080/",
          "height": 80
        },
        "id": "nAjtJ36v7NiH",
        "outputId": "e11c5563-3d71-4d41-ed00-6ba2e4ce305b"
      },
      "execution_count": 244,
      "outputs": [
        {
          "output_type": "execute_result",
          "data": {
            "text/plain": [
              "SVC(C=10)"
            ],
            "text/html": [
              "<style>#sk-container-id-12 {\n",
              "  /* Definition of color scheme common for light and dark mode */\n",
              "  --sklearn-color-text: #000;\n",
              "  --sklearn-color-text-muted: #666;\n",
              "  --sklearn-color-line: gray;\n",
              "  /* Definition of color scheme for unfitted estimators */\n",
              "  --sklearn-color-unfitted-level-0: #fff5e6;\n",
              "  --sklearn-color-unfitted-level-1: #f6e4d2;\n",
              "  --sklearn-color-unfitted-level-2: #ffe0b3;\n",
              "  --sklearn-color-unfitted-level-3: chocolate;\n",
              "  /* Definition of color scheme for fitted estimators */\n",
              "  --sklearn-color-fitted-level-0: #f0f8ff;\n",
              "  --sklearn-color-fitted-level-1: #d4ebff;\n",
              "  --sklearn-color-fitted-level-2: #b3dbfd;\n",
              "  --sklearn-color-fitted-level-3: cornflowerblue;\n",
              "\n",
              "  /* Specific color for light theme */\n",
              "  --sklearn-color-text-on-default-background: var(--sg-text-color, var(--theme-code-foreground, var(--jp-content-font-color1, black)));\n",
              "  --sklearn-color-background: var(--sg-background-color, var(--theme-background, var(--jp-layout-color0, white)));\n",
              "  --sklearn-color-border-box: var(--sg-text-color, var(--theme-code-foreground, var(--jp-content-font-color1, black)));\n",
              "  --sklearn-color-icon: #696969;\n",
              "\n",
              "  @media (prefers-color-scheme: dark) {\n",
              "    /* Redefinition of color scheme for dark theme */\n",
              "    --sklearn-color-text-on-default-background: var(--sg-text-color, var(--theme-code-foreground, var(--jp-content-font-color1, white)));\n",
              "    --sklearn-color-background: var(--sg-background-color, var(--theme-background, var(--jp-layout-color0, #111)));\n",
              "    --sklearn-color-border-box: var(--sg-text-color, var(--theme-code-foreground, var(--jp-content-font-color1, white)));\n",
              "    --sklearn-color-icon: #878787;\n",
              "  }\n",
              "}\n",
              "\n",
              "#sk-container-id-12 {\n",
              "  color: var(--sklearn-color-text);\n",
              "}\n",
              "\n",
              "#sk-container-id-12 pre {\n",
              "  padding: 0;\n",
              "}\n",
              "\n",
              "#sk-container-id-12 input.sk-hidden--visually {\n",
              "  border: 0;\n",
              "  clip: rect(1px 1px 1px 1px);\n",
              "  clip: rect(1px, 1px, 1px, 1px);\n",
              "  height: 1px;\n",
              "  margin: -1px;\n",
              "  overflow: hidden;\n",
              "  padding: 0;\n",
              "  position: absolute;\n",
              "  width: 1px;\n",
              "}\n",
              "\n",
              "#sk-container-id-12 div.sk-dashed-wrapped {\n",
              "  border: 1px dashed var(--sklearn-color-line);\n",
              "  margin: 0 0.4em 0.5em 0.4em;\n",
              "  box-sizing: border-box;\n",
              "  padding-bottom: 0.4em;\n",
              "  background-color: var(--sklearn-color-background);\n",
              "}\n",
              "\n",
              "#sk-container-id-12 div.sk-container {\n",
              "  /* jupyter's `normalize.less` sets `[hidden] { display: none; }`\n",
              "     but bootstrap.min.css set `[hidden] { display: none !important; }`\n",
              "     so we also need the `!important` here to be able to override the\n",
              "     default hidden behavior on the sphinx rendered scikit-learn.org.\n",
              "     See: https://github.com/scikit-learn/scikit-learn/issues/21755 */\n",
              "  display: inline-block !important;\n",
              "  position: relative;\n",
              "}\n",
              "\n",
              "#sk-container-id-12 div.sk-text-repr-fallback {\n",
              "  display: none;\n",
              "}\n",
              "\n",
              "div.sk-parallel-item,\n",
              "div.sk-serial,\n",
              "div.sk-item {\n",
              "  /* draw centered vertical line to link estimators */\n",
              "  background-image: linear-gradient(var(--sklearn-color-text-on-default-background), var(--sklearn-color-text-on-default-background));\n",
              "  background-size: 2px 100%;\n",
              "  background-repeat: no-repeat;\n",
              "  background-position: center center;\n",
              "}\n",
              "\n",
              "/* Parallel-specific style estimator block */\n",
              "\n",
              "#sk-container-id-12 div.sk-parallel-item::after {\n",
              "  content: \"\";\n",
              "  width: 100%;\n",
              "  border-bottom: 2px solid var(--sklearn-color-text-on-default-background);\n",
              "  flex-grow: 1;\n",
              "}\n",
              "\n",
              "#sk-container-id-12 div.sk-parallel {\n",
              "  display: flex;\n",
              "  align-items: stretch;\n",
              "  justify-content: center;\n",
              "  background-color: var(--sklearn-color-background);\n",
              "  position: relative;\n",
              "}\n",
              "\n",
              "#sk-container-id-12 div.sk-parallel-item {\n",
              "  display: flex;\n",
              "  flex-direction: column;\n",
              "}\n",
              "\n",
              "#sk-container-id-12 div.sk-parallel-item:first-child::after {\n",
              "  align-self: flex-end;\n",
              "  width: 50%;\n",
              "}\n",
              "\n",
              "#sk-container-id-12 div.sk-parallel-item:last-child::after {\n",
              "  align-self: flex-start;\n",
              "  width: 50%;\n",
              "}\n",
              "\n",
              "#sk-container-id-12 div.sk-parallel-item:only-child::after {\n",
              "  width: 0;\n",
              "}\n",
              "\n",
              "/* Serial-specific style estimator block */\n",
              "\n",
              "#sk-container-id-12 div.sk-serial {\n",
              "  display: flex;\n",
              "  flex-direction: column;\n",
              "  align-items: center;\n",
              "  background-color: var(--sklearn-color-background);\n",
              "  padding-right: 1em;\n",
              "  padding-left: 1em;\n",
              "}\n",
              "\n",
              "\n",
              "/* Toggleable style: style used for estimator/Pipeline/ColumnTransformer box that is\n",
              "clickable and can be expanded/collapsed.\n",
              "- Pipeline and ColumnTransformer use this feature and define the default style\n",
              "- Estimators will overwrite some part of the style using the `sk-estimator` class\n",
              "*/\n",
              "\n",
              "/* Pipeline and ColumnTransformer style (default) */\n",
              "\n",
              "#sk-container-id-12 div.sk-toggleable {\n",
              "  /* Default theme specific background. It is overwritten whether we have a\n",
              "  specific estimator or a Pipeline/ColumnTransformer */\n",
              "  background-color: var(--sklearn-color-background);\n",
              "}\n",
              "\n",
              "/* Toggleable label */\n",
              "#sk-container-id-12 label.sk-toggleable__label {\n",
              "  cursor: pointer;\n",
              "  display: flex;\n",
              "  width: 100%;\n",
              "  margin-bottom: 0;\n",
              "  padding: 0.5em;\n",
              "  box-sizing: border-box;\n",
              "  text-align: center;\n",
              "  align-items: start;\n",
              "  justify-content: space-between;\n",
              "  gap: 0.5em;\n",
              "}\n",
              "\n",
              "#sk-container-id-12 label.sk-toggleable__label .caption {\n",
              "  font-size: 0.6rem;\n",
              "  font-weight: lighter;\n",
              "  color: var(--sklearn-color-text-muted);\n",
              "}\n",
              "\n",
              "#sk-container-id-12 label.sk-toggleable__label-arrow:before {\n",
              "  /* Arrow on the left of the label */\n",
              "  content: \"▸\";\n",
              "  float: left;\n",
              "  margin-right: 0.25em;\n",
              "  color: var(--sklearn-color-icon);\n",
              "}\n",
              "\n",
              "#sk-container-id-12 label.sk-toggleable__label-arrow:hover:before {\n",
              "  color: var(--sklearn-color-text);\n",
              "}\n",
              "\n",
              "/* Toggleable content - dropdown */\n",
              "\n",
              "#sk-container-id-12 div.sk-toggleable__content {\n",
              "  max-height: 0;\n",
              "  max-width: 0;\n",
              "  overflow: hidden;\n",
              "  text-align: left;\n",
              "  /* unfitted */\n",
              "  background-color: var(--sklearn-color-unfitted-level-0);\n",
              "}\n",
              "\n",
              "#sk-container-id-12 div.sk-toggleable__content.fitted {\n",
              "  /* fitted */\n",
              "  background-color: var(--sklearn-color-fitted-level-0);\n",
              "}\n",
              "\n",
              "#sk-container-id-12 div.sk-toggleable__content pre {\n",
              "  margin: 0.2em;\n",
              "  border-radius: 0.25em;\n",
              "  color: var(--sklearn-color-text);\n",
              "  /* unfitted */\n",
              "  background-color: var(--sklearn-color-unfitted-level-0);\n",
              "}\n",
              "\n",
              "#sk-container-id-12 div.sk-toggleable__content.fitted pre {\n",
              "  /* unfitted */\n",
              "  background-color: var(--sklearn-color-fitted-level-0);\n",
              "}\n",
              "\n",
              "#sk-container-id-12 input.sk-toggleable__control:checked~div.sk-toggleable__content {\n",
              "  /* Expand drop-down */\n",
              "  max-height: 200px;\n",
              "  max-width: 100%;\n",
              "  overflow: auto;\n",
              "}\n",
              "\n",
              "#sk-container-id-12 input.sk-toggleable__control:checked~label.sk-toggleable__label-arrow:before {\n",
              "  content: \"▾\";\n",
              "}\n",
              "\n",
              "/* Pipeline/ColumnTransformer-specific style */\n",
              "\n",
              "#sk-container-id-12 div.sk-label input.sk-toggleable__control:checked~label.sk-toggleable__label {\n",
              "  color: var(--sklearn-color-text);\n",
              "  background-color: var(--sklearn-color-unfitted-level-2);\n",
              "}\n",
              "\n",
              "#sk-container-id-12 div.sk-label.fitted input.sk-toggleable__control:checked~label.sk-toggleable__label {\n",
              "  background-color: var(--sklearn-color-fitted-level-2);\n",
              "}\n",
              "\n",
              "/* Estimator-specific style */\n",
              "\n",
              "/* Colorize estimator box */\n",
              "#sk-container-id-12 div.sk-estimator input.sk-toggleable__control:checked~label.sk-toggleable__label {\n",
              "  /* unfitted */\n",
              "  background-color: var(--sklearn-color-unfitted-level-2);\n",
              "}\n",
              "\n",
              "#sk-container-id-12 div.sk-estimator.fitted input.sk-toggleable__control:checked~label.sk-toggleable__label {\n",
              "  /* fitted */\n",
              "  background-color: var(--sklearn-color-fitted-level-2);\n",
              "}\n",
              "\n",
              "#sk-container-id-12 div.sk-label label.sk-toggleable__label,\n",
              "#sk-container-id-12 div.sk-label label {\n",
              "  /* The background is the default theme color */\n",
              "  color: var(--sklearn-color-text-on-default-background);\n",
              "}\n",
              "\n",
              "/* On hover, darken the color of the background */\n",
              "#sk-container-id-12 div.sk-label:hover label.sk-toggleable__label {\n",
              "  color: var(--sklearn-color-text);\n",
              "  background-color: var(--sklearn-color-unfitted-level-2);\n",
              "}\n",
              "\n",
              "/* Label box, darken color on hover, fitted */\n",
              "#sk-container-id-12 div.sk-label.fitted:hover label.sk-toggleable__label.fitted {\n",
              "  color: var(--sklearn-color-text);\n",
              "  background-color: var(--sklearn-color-fitted-level-2);\n",
              "}\n",
              "\n",
              "/* Estimator label */\n",
              "\n",
              "#sk-container-id-12 div.sk-label label {\n",
              "  font-family: monospace;\n",
              "  font-weight: bold;\n",
              "  display: inline-block;\n",
              "  line-height: 1.2em;\n",
              "}\n",
              "\n",
              "#sk-container-id-12 div.sk-label-container {\n",
              "  text-align: center;\n",
              "}\n",
              "\n",
              "/* Estimator-specific */\n",
              "#sk-container-id-12 div.sk-estimator {\n",
              "  font-family: monospace;\n",
              "  border: 1px dotted var(--sklearn-color-border-box);\n",
              "  border-radius: 0.25em;\n",
              "  box-sizing: border-box;\n",
              "  margin-bottom: 0.5em;\n",
              "  /* unfitted */\n",
              "  background-color: var(--sklearn-color-unfitted-level-0);\n",
              "}\n",
              "\n",
              "#sk-container-id-12 div.sk-estimator.fitted {\n",
              "  /* fitted */\n",
              "  background-color: var(--sklearn-color-fitted-level-0);\n",
              "}\n",
              "\n",
              "/* on hover */\n",
              "#sk-container-id-12 div.sk-estimator:hover {\n",
              "  /* unfitted */\n",
              "  background-color: var(--sklearn-color-unfitted-level-2);\n",
              "}\n",
              "\n",
              "#sk-container-id-12 div.sk-estimator.fitted:hover {\n",
              "  /* fitted */\n",
              "  background-color: var(--sklearn-color-fitted-level-2);\n",
              "}\n",
              "\n",
              "/* Specification for estimator info (e.g. \"i\" and \"?\") */\n",
              "\n",
              "/* Common style for \"i\" and \"?\" */\n",
              "\n",
              ".sk-estimator-doc-link,\n",
              "a:link.sk-estimator-doc-link,\n",
              "a:visited.sk-estimator-doc-link {\n",
              "  float: right;\n",
              "  font-size: smaller;\n",
              "  line-height: 1em;\n",
              "  font-family: monospace;\n",
              "  background-color: var(--sklearn-color-background);\n",
              "  border-radius: 1em;\n",
              "  height: 1em;\n",
              "  width: 1em;\n",
              "  text-decoration: none !important;\n",
              "  margin-left: 0.5em;\n",
              "  text-align: center;\n",
              "  /* unfitted */\n",
              "  border: var(--sklearn-color-unfitted-level-1) 1pt solid;\n",
              "  color: var(--sklearn-color-unfitted-level-1);\n",
              "}\n",
              "\n",
              ".sk-estimator-doc-link.fitted,\n",
              "a:link.sk-estimator-doc-link.fitted,\n",
              "a:visited.sk-estimator-doc-link.fitted {\n",
              "  /* fitted */\n",
              "  border: var(--sklearn-color-fitted-level-1) 1pt solid;\n",
              "  color: var(--sklearn-color-fitted-level-1);\n",
              "}\n",
              "\n",
              "/* On hover */\n",
              "div.sk-estimator:hover .sk-estimator-doc-link:hover,\n",
              ".sk-estimator-doc-link:hover,\n",
              "div.sk-label-container:hover .sk-estimator-doc-link:hover,\n",
              ".sk-estimator-doc-link:hover {\n",
              "  /* unfitted */\n",
              "  background-color: var(--sklearn-color-unfitted-level-3);\n",
              "  color: var(--sklearn-color-background);\n",
              "  text-decoration: none;\n",
              "}\n",
              "\n",
              "div.sk-estimator.fitted:hover .sk-estimator-doc-link.fitted:hover,\n",
              ".sk-estimator-doc-link.fitted:hover,\n",
              "div.sk-label-container:hover .sk-estimator-doc-link.fitted:hover,\n",
              ".sk-estimator-doc-link.fitted:hover {\n",
              "  /* fitted */\n",
              "  background-color: var(--sklearn-color-fitted-level-3);\n",
              "  color: var(--sklearn-color-background);\n",
              "  text-decoration: none;\n",
              "}\n",
              "\n",
              "/* Span, style for the box shown on hovering the info icon */\n",
              ".sk-estimator-doc-link span {\n",
              "  display: none;\n",
              "  z-index: 9999;\n",
              "  position: relative;\n",
              "  font-weight: normal;\n",
              "  right: .2ex;\n",
              "  padding: .5ex;\n",
              "  margin: .5ex;\n",
              "  width: min-content;\n",
              "  min-width: 20ex;\n",
              "  max-width: 50ex;\n",
              "  color: var(--sklearn-color-text);\n",
              "  box-shadow: 2pt 2pt 4pt #999;\n",
              "  /* unfitted */\n",
              "  background: var(--sklearn-color-unfitted-level-0);\n",
              "  border: .5pt solid var(--sklearn-color-unfitted-level-3);\n",
              "}\n",
              "\n",
              ".sk-estimator-doc-link.fitted span {\n",
              "  /* fitted */\n",
              "  background: var(--sklearn-color-fitted-level-0);\n",
              "  border: var(--sklearn-color-fitted-level-3);\n",
              "}\n",
              "\n",
              ".sk-estimator-doc-link:hover span {\n",
              "  display: block;\n",
              "}\n",
              "\n",
              "/* \"?\"-specific style due to the `<a>` HTML tag */\n",
              "\n",
              "#sk-container-id-12 a.estimator_doc_link {\n",
              "  float: right;\n",
              "  font-size: 1rem;\n",
              "  line-height: 1em;\n",
              "  font-family: monospace;\n",
              "  background-color: var(--sklearn-color-background);\n",
              "  border-radius: 1rem;\n",
              "  height: 1rem;\n",
              "  width: 1rem;\n",
              "  text-decoration: none;\n",
              "  /* unfitted */\n",
              "  color: var(--sklearn-color-unfitted-level-1);\n",
              "  border: var(--sklearn-color-unfitted-level-1) 1pt solid;\n",
              "}\n",
              "\n",
              "#sk-container-id-12 a.estimator_doc_link.fitted {\n",
              "  /* fitted */\n",
              "  border: var(--sklearn-color-fitted-level-1) 1pt solid;\n",
              "  color: var(--sklearn-color-fitted-level-1);\n",
              "}\n",
              "\n",
              "/* On hover */\n",
              "#sk-container-id-12 a.estimator_doc_link:hover {\n",
              "  /* unfitted */\n",
              "  background-color: var(--sklearn-color-unfitted-level-3);\n",
              "  color: var(--sklearn-color-background);\n",
              "  text-decoration: none;\n",
              "}\n",
              "\n",
              "#sk-container-id-12 a.estimator_doc_link.fitted:hover {\n",
              "  /* fitted */\n",
              "  background-color: var(--sklearn-color-fitted-level-3);\n",
              "}\n",
              "</style><div id=\"sk-container-id-12\" class=\"sk-top-container\"><div class=\"sk-text-repr-fallback\"><pre>SVC(C=10)</pre><b>In a Jupyter environment, please rerun this cell to show the HTML representation or trust the notebook. <br />On GitHub, the HTML representation is unable to render, please try loading this page with nbviewer.org.</b></div><div class=\"sk-container\" hidden><div class=\"sk-item\"><div class=\"sk-estimator fitted sk-toggleable\"><input class=\"sk-toggleable__control sk-hidden--visually\" id=\"sk-estimator-id-12\" type=\"checkbox\" checked><label for=\"sk-estimator-id-12\" class=\"sk-toggleable__label fitted sk-toggleable__label-arrow\"><div><div>SVC</div></div><div><a class=\"sk-estimator-doc-link fitted\" rel=\"noreferrer\" target=\"_blank\" href=\"https://scikit-learn.org/1.6/modules/generated/sklearn.svm.SVC.html\">?<span>Documentation for SVC</span></a><span class=\"sk-estimator-doc-link fitted\">i<span>Fitted</span></span></div></label><div class=\"sk-toggleable__content fitted\"><pre>SVC(C=10)</pre></div> </div></div></div></div>"
            ]
          },
          "metadata": {},
          "execution_count": 244
        }
      ]
    },
    {
      "cell_type": "code",
      "source": [
        "y_train_pred = svc.predict(x_train)\n",
        "y_test_pred = svc.predict(x_test)"
      ],
      "metadata": {
        "id": "tA5oEsUl7SXn"
      },
      "execution_count": 245,
      "outputs": []
    },
    {
      "cell_type": "code",
      "source": [
        "y_train_pred"
      ],
      "metadata": {
        "colab": {
          "base_uri": "https://localhost:8080/"
        },
        "id": "4_yZuudG7Vsq",
        "outputId": "97265d34-4d40-4f3e-93f3-a54218d1ef47"
      },
      "execution_count": 246,
      "outputs": [
        {
          "output_type": "execute_result",
          "data": {
            "text/plain": [
              "array([2, 5, 2, ..., 5, 1, 6])"
            ]
          },
          "metadata": {},
          "execution_count": 246
        }
      ]
    },
    {
      "cell_type": "code",
      "source": [
        "y_test_pred"
      ],
      "metadata": {
        "colab": {
          "base_uri": "https://localhost:8080/"
        },
        "id": "L9grdZQR7eHt",
        "outputId": "48cc63b4-7278-4642-c341-679d30d104d8"
      },
      "execution_count": 247,
      "outputs": [
        {
          "output_type": "execute_result",
          "data": {
            "text/plain": [
              "array([6, 3, 1, ..., 2, 1, 3])"
            ]
          },
          "metadata": {},
          "execution_count": 247
        }
      ]
    },
    {
      "cell_type": "markdown",
      "source": [
        "### Model Performance :"
      ],
      "metadata": {
        "id": "8svZkB4g7f98"
      }
    },
    {
      "cell_type": "code",
      "source": [
        "from sklearn.metrics import mean_squared_error, r2_score, accuracy_score, confusion_matrix\n",
        "# mse means mean of square of difference bet. predicted and actual values"
      ],
      "metadata": {
        "id": "ToDV48wI7fGh"
      },
      "execution_count": 248,
      "outputs": []
    },
    {
      "cell_type": "code",
      "source": [
        "mean_squared_error(y_test, y_test_pred)"
      ],
      "metadata": {
        "colab": {
          "base_uri": "https://localhost:8080/"
        },
        "id": "ojOOyKii7oDK",
        "outputId": "2c8136a7-88c7-41eb-b5be-010a13bb25f3"
      },
      "execution_count": 249,
      "outputs": [
        {
          "output_type": "execute_result",
          "data": {
            "text/plain": [
              "0.19983011255043534"
            ]
          },
          "metadata": {},
          "execution_count": 249
        }
      ]
    },
    {
      "cell_type": "code",
      "source": [
        "r2_score(y_train, y_train_pred)"
      ],
      "metadata": {
        "colab": {
          "base_uri": "https://localhost:8080/"
        },
        "id": "x5e_Ztpf7rAY",
        "outputId": "3decf07e-c85f-4b05-f53a-ac38bae2ba8c"
      },
      "execution_count": 250,
      "outputs": [
        {
          "output_type": "execute_result",
          "data": {
            "text/plain": [
              "0.9677482035780784"
            ]
          },
          "metadata": {},
          "execution_count": 250
        }
      ]
    },
    {
      "cell_type": "code",
      "source": [
        "r2_score(y_test, y_test_pred)"
      ],
      "metadata": {
        "colab": {
          "base_uri": "https://localhost:8080/"
        },
        "id": "slJygj6g7uYF",
        "outputId": "c271e289-5ea0-40a2-d908-bf24a576a6d9"
      },
      "execution_count": 251,
      "outputs": [
        {
          "output_type": "execute_result",
          "data": {
            "text/plain": [
              "0.9315421713803489"
            ]
          },
          "metadata": {},
          "execution_count": 251
        }
      ]
    },
    {
      "cell_type": "code",
      "source": [
        "accuracy = accuracy_score(y_train, y_train_pred)\n",
        "print(f\"Accuracy: {accuracy}\")"
      ],
      "metadata": {
        "colab": {
          "base_uri": "https://localhost:8080/"
        },
        "id": "abjz0URf7xXv",
        "outputId": "44881dea-5bb5-4d65-be0c-ded0bcddddee"
      },
      "execution_count": 252,
      "outputs": [
        {
          "output_type": "stream",
          "name": "stdout",
          "text": [
            "Accuracy: 0.9280058250659871\n"
          ]
        }
      ]
    },
    {
      "cell_type": "code",
      "source": [
        "accuracy = accuracy_score(y_test, y_test_pred)\n",
        "print(f\"Accuracy: {accuracy}\")"
      ],
      "metadata": {
        "colab": {
          "base_uri": "https://localhost:8080/"
        },
        "id": "yWsSu13j71Bb",
        "outputId": "f43924db-b9b5-48f9-f8ad-064451018d39"
      },
      "execution_count": 253,
      "outputs": [
        {
          "output_type": "stream",
          "name": "stdout",
          "text": [
            "Accuracy: 0.8611170099808877\n"
          ]
        }
      ]
    },
    {
      "cell_type": "code",
      "source": [
        "cm_train = confusion_matrix(y_train, y_train_pred)\n",
        "cm_train"
      ],
      "metadata": {
        "colab": {
          "base_uri": "https://localhost:8080/"
        },
        "id": "dc3QbEob730d",
        "outputId": "59e919f6-d614-4562-d620-4d6f95d7b9a0"
      },
      "execution_count": 254,
      "outputs": [
        {
          "output_type": "execute_result",
          "data": {
            "text/plain": [
              "array([[1614,  157,   32,    0,    0,    0],\n",
              "       [ 146, 1665,   15,    0,    0,    0],\n",
              "       [  22,    2, 1802,   22,    0,    0],\n",
              "       [   1,    0,   49, 1676,   96,    5],\n",
              "       [   1,    0,    0,  179, 1610,   31],\n",
              "       [   0,    0,    0,   14,   19, 1829]])"
            ]
          },
          "metadata": {},
          "execution_count": 254
        }
      ]
    },
    {
      "cell_type": "code",
      "source": [
        "cm_test = confusion_matrix(y_test, y_test_pred)\n",
        "\n",
        "plt.figure(figsize=(8, 6))\n",
        "sns.heatmap(cm_test, annot=True, fmt=\"d\", cmap=\"Blues\",\n",
        "            xticklabels=np.unique(y), yticklabels=np.unique(y))\n",
        "plt.xlabel(\"Predicted\")\n",
        "plt.ylabel(\"Actual\")\n",
        "plt.title(\"Confusion Matrix\")\n",
        "plt.show()"
      ],
      "metadata": {
        "colab": {
          "base_uri": "https://localhost:8080/",
          "height": 564
        },
        "id": "tXClKJmi7_vL",
        "outputId": "49aad5e7-8fa7-4da5-f9ba-59ab086643bf"
      },
      "execution_count": 255,
      "outputs": [
        {
          "output_type": "display_data",
          "data": {
            "text/plain": [
              "<Figure size 800x600 with 2 Axes>"
            ],
            "image/png": "[encoded data removed]"
          },
          "metadata": {}
        }
      ]
    },
    {
      "cell_type": "code",
      "source": [],
      "metadata": {
        "id": "8BsRZbj58HmH"
      },
      "execution_count": 195,
      "outputs": []
    }
  ]
}